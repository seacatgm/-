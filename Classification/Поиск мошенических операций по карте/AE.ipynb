{
  "nbformat": 4,
  "nbformat_minor": 0,
  "metadata": {
    "colab": {
      "name": "AE",
      "provenance": [],
      "collapsed_sections": [],
      "include_colab_link": true
    },
    "kernelspec": {
      "name": "python3",
      "display_name": "Python 3"
    },
    "accelerator": "GPU"
  },
  "cells": [
    {
      "cell_type": "markdown",
      "metadata": {
        "id": "view-in-github",
        "colab_type": "text"
      },
      "source": [
        "<a href=\"https://colab.research.google.com/github/seacatgm/-/blob/main/Classification/%D0%9F%D0%BE%D0%B8%D1%81%D0%BA%20%D0%BC%D0%BE%D1%88%D0%B5%D0%BD%D0%B8%D1%87%D0%B5%D1%81%D0%BA%D0%B8%D1%85%20%D0%BE%D0%BF%D0%B5%D1%80%D0%B0%D1%86%D0%B8%D0%B9%20%D0%BF%D0%BE%20%D0%BA%D0%B0%D1%80%D1%82%D0%B5/AE.ipynb\" target=\"_parent\"><img src=\"https://colab.research.google.com/assets/colab-badge.svg\" alt=\"Open In Colab\"/></a>"
      ]
    },
    {
      "cell_type": "code",
      "metadata": {
        "id": "0hyWYiPqLdez"
      },
      "source": [
        "from tensorflow.keras.models import Model, Sequential # загружаем абстрактный класс базовой модели сети от кераса и последовательную модель\n",
        "# Из кераса загружаем необходимые слои для нейросети\n",
        "from tensorflow.keras.layers import Dense, Flatten, Reshape, Input, Conv2DTranspose, concatenate, Activation, MaxPooling2D, Conv2D, Conv1D, BatchNormalization, Dropout, LSTM, MaxPooling1D, Conv1DTranspose\n",
        "from tensorflow.keras import backend as K # подтягиваем базовые керасовские функции\n",
        "from tensorflow.keras.optimizers import Adam, Adamax, RMSprop # загружаем выбранный оптимизатор\n",
        "from tensorflow.keras import utils # загружаем утилиты кераса\n",
        "from tensorflow.keras.datasets import mnist, fashion_mnist # загружаем готовые базы mnist\n",
        "\n",
        "import matplotlib.pyplot as plt # из библиотеки для визуализации данных возьмём интерфейс для построения графиков простых функций\n",
        "from tensorflow.keras.preprocessing import image # модуль для отрисовки изображения\n",
        "import numpy as np # библиотека для работы с массивами данных\n",
        "import pandas as pd # библиотека для анализа и обработки данных\n",
        "from PIL import Image # модуль для отрисовки изображения\n",
        "from sklearn.model_selection import train_test_split # модуль для разбивки выборки на тренировочную/тестовую\n",
        "from sklearn.preprocessing import StandardScaler # модуль для стандартизации данных\n",
        "\n",
        "import os #\n",
        "from google.colab import drive #модуль для работы с google диском \n",
        "import time"
      ],
      "execution_count": null,
      "outputs": []
    },
    {
      "cell_type": "code",
      "metadata": {
        "id": "A0z0yyCJEs0v",
        "colab": {
          "base_uri": "https://localhost:8080/"
        },
        "outputId": "fd150f1f-56de-4a1c-bf0d-0e20dcd06fe0"
      },
      "source": [
        "drive.mount('/content/drive/') # монтируем google диск"
      ],
      "execution_count": null,
      "outputs": [
        {
          "output_type": "stream",
          "text": [
            "Mounted at /content/drive/\n"
          ],
          "name": "stdout"
        }
      ]
    },
    {
      "cell_type": "code",
      "metadata": {
        "id": "89p7GynPQM4F"
      },
      "source": [
        "df = pd.read_csv(\"/content/drive/My Drive/neuro/base/creditcard.csv\") # читаем базу"
      ],
      "execution_count": null,
      "outputs": []
    },
    {
      "cell_type": "code",
      "metadata": {
        "id": "wZ6_P099QNn9",
        "colab": {
          "base_uri": "https://localhost:8080/",
          "height": 224
        },
        "outputId": "13d09744-df74-48d5-f64b-fcab054d73e5"
      },
      "source": [
        "df.head() # выводим первые пять строк"
      ],
      "execution_count": null,
      "outputs": [
        {
          "output_type": "execute_result",
          "data": {
            "text/html": [
              "<div>\n",
              "<style scoped>\n",
              "    .dataframe tbody tr th:only-of-type {\n",
              "        vertical-align: middle;\n",
              "    }\n",
              "\n",
              "    .dataframe tbody tr th {\n",
              "        vertical-align: top;\n",
              "    }\n",
              "\n",
              "    .dataframe thead th {\n",
              "        text-align: right;\n",
              "    }\n",
              "</style>\n",
              "<table border=\"1\" class=\"dataframe\">\n",
              "  <thead>\n",
              "    <tr style=\"text-align: right;\">\n",
              "      <th></th>\n",
              "      <th>Time</th>\n",
              "      <th>V1</th>\n",
              "      <th>V2</th>\n",
              "      <th>V3</th>\n",
              "      <th>V4</th>\n",
              "      <th>V5</th>\n",
              "      <th>V6</th>\n",
              "      <th>V7</th>\n",
              "      <th>V8</th>\n",
              "      <th>V9</th>\n",
              "      <th>V10</th>\n",
              "      <th>V11</th>\n",
              "      <th>V12</th>\n",
              "      <th>V13</th>\n",
              "      <th>V14</th>\n",
              "      <th>V15</th>\n",
              "      <th>V16</th>\n",
              "      <th>V17</th>\n",
              "      <th>V18</th>\n",
              "      <th>V19</th>\n",
              "      <th>V20</th>\n",
              "      <th>V21</th>\n",
              "      <th>V22</th>\n",
              "      <th>V23</th>\n",
              "      <th>V24</th>\n",
              "      <th>V25</th>\n",
              "      <th>V26</th>\n",
              "      <th>V27</th>\n",
              "      <th>V28</th>\n",
              "      <th>Amount</th>\n",
              "      <th>Class</th>\n",
              "    </tr>\n",
              "  </thead>\n",
              "  <tbody>\n",
              "    <tr>\n",
              "      <th>0</th>\n",
              "      <td>0.0</td>\n",
              "      <td>-1.359807</td>\n",
              "      <td>-0.072781</td>\n",
              "      <td>2.536347</td>\n",
              "      <td>1.378155</td>\n",
              "      <td>-0.338321</td>\n",
              "      <td>0.462388</td>\n",
              "      <td>0.239599</td>\n",
              "      <td>0.098698</td>\n",
              "      <td>0.363787</td>\n",
              "      <td>0.090794</td>\n",
              "      <td>-0.551600</td>\n",
              "      <td>-0.617801</td>\n",
              "      <td>-0.991390</td>\n",
              "      <td>-0.311169</td>\n",
              "      <td>1.468177</td>\n",
              "      <td>-0.470401</td>\n",
              "      <td>0.207971</td>\n",
              "      <td>0.025791</td>\n",
              "      <td>0.403993</td>\n",
              "      <td>0.251412</td>\n",
              "      <td>-0.018307</td>\n",
              "      <td>0.277838</td>\n",
              "      <td>-0.110474</td>\n",
              "      <td>0.066928</td>\n",
              "      <td>0.128539</td>\n",
              "      <td>-0.189115</td>\n",
              "      <td>0.133558</td>\n",
              "      <td>-0.021053</td>\n",
              "      <td>149.62</td>\n",
              "      <td>0</td>\n",
              "    </tr>\n",
              "    <tr>\n",
              "      <th>1</th>\n",
              "      <td>0.0</td>\n",
              "      <td>1.191857</td>\n",
              "      <td>0.266151</td>\n",
              "      <td>0.166480</td>\n",
              "      <td>0.448154</td>\n",
              "      <td>0.060018</td>\n",
              "      <td>-0.082361</td>\n",
              "      <td>-0.078803</td>\n",
              "      <td>0.085102</td>\n",
              "      <td>-0.255425</td>\n",
              "      <td>-0.166974</td>\n",
              "      <td>1.612727</td>\n",
              "      <td>1.065235</td>\n",
              "      <td>0.489095</td>\n",
              "      <td>-0.143772</td>\n",
              "      <td>0.635558</td>\n",
              "      <td>0.463917</td>\n",
              "      <td>-0.114805</td>\n",
              "      <td>-0.183361</td>\n",
              "      <td>-0.145783</td>\n",
              "      <td>-0.069083</td>\n",
              "      <td>-0.225775</td>\n",
              "      <td>-0.638672</td>\n",
              "      <td>0.101288</td>\n",
              "      <td>-0.339846</td>\n",
              "      <td>0.167170</td>\n",
              "      <td>0.125895</td>\n",
              "      <td>-0.008983</td>\n",
              "      <td>0.014724</td>\n",
              "      <td>2.69</td>\n",
              "      <td>0</td>\n",
              "    </tr>\n",
              "    <tr>\n",
              "      <th>2</th>\n",
              "      <td>1.0</td>\n",
              "      <td>-1.358354</td>\n",
              "      <td>-1.340163</td>\n",
              "      <td>1.773209</td>\n",
              "      <td>0.379780</td>\n",
              "      <td>-0.503198</td>\n",
              "      <td>1.800499</td>\n",
              "      <td>0.791461</td>\n",
              "      <td>0.247676</td>\n",
              "      <td>-1.514654</td>\n",
              "      <td>0.207643</td>\n",
              "      <td>0.624501</td>\n",
              "      <td>0.066084</td>\n",
              "      <td>0.717293</td>\n",
              "      <td>-0.165946</td>\n",
              "      <td>2.345865</td>\n",
              "      <td>-2.890083</td>\n",
              "      <td>1.109969</td>\n",
              "      <td>-0.121359</td>\n",
              "      <td>-2.261857</td>\n",
              "      <td>0.524980</td>\n",
              "      <td>0.247998</td>\n",
              "      <td>0.771679</td>\n",
              "      <td>0.909412</td>\n",
              "      <td>-0.689281</td>\n",
              "      <td>-0.327642</td>\n",
              "      <td>-0.139097</td>\n",
              "      <td>-0.055353</td>\n",
              "      <td>-0.059752</td>\n",
              "      <td>378.66</td>\n",
              "      <td>0</td>\n",
              "    </tr>\n",
              "    <tr>\n",
              "      <th>3</th>\n",
              "      <td>1.0</td>\n",
              "      <td>-0.966272</td>\n",
              "      <td>-0.185226</td>\n",
              "      <td>1.792993</td>\n",
              "      <td>-0.863291</td>\n",
              "      <td>-0.010309</td>\n",
              "      <td>1.247203</td>\n",
              "      <td>0.237609</td>\n",
              "      <td>0.377436</td>\n",
              "      <td>-1.387024</td>\n",
              "      <td>-0.054952</td>\n",
              "      <td>-0.226487</td>\n",
              "      <td>0.178228</td>\n",
              "      <td>0.507757</td>\n",
              "      <td>-0.287924</td>\n",
              "      <td>-0.631418</td>\n",
              "      <td>-1.059647</td>\n",
              "      <td>-0.684093</td>\n",
              "      <td>1.965775</td>\n",
              "      <td>-1.232622</td>\n",
              "      <td>-0.208038</td>\n",
              "      <td>-0.108300</td>\n",
              "      <td>0.005274</td>\n",
              "      <td>-0.190321</td>\n",
              "      <td>-1.175575</td>\n",
              "      <td>0.647376</td>\n",
              "      <td>-0.221929</td>\n",
              "      <td>0.062723</td>\n",
              "      <td>0.061458</td>\n",
              "      <td>123.50</td>\n",
              "      <td>0</td>\n",
              "    </tr>\n",
              "    <tr>\n",
              "      <th>4</th>\n",
              "      <td>2.0</td>\n",
              "      <td>-1.158233</td>\n",
              "      <td>0.877737</td>\n",
              "      <td>1.548718</td>\n",
              "      <td>0.403034</td>\n",
              "      <td>-0.407193</td>\n",
              "      <td>0.095921</td>\n",
              "      <td>0.592941</td>\n",
              "      <td>-0.270533</td>\n",
              "      <td>0.817739</td>\n",
              "      <td>0.753074</td>\n",
              "      <td>-0.822843</td>\n",
              "      <td>0.538196</td>\n",
              "      <td>1.345852</td>\n",
              "      <td>-1.119670</td>\n",
              "      <td>0.175121</td>\n",
              "      <td>-0.451449</td>\n",
              "      <td>-0.237033</td>\n",
              "      <td>-0.038195</td>\n",
              "      <td>0.803487</td>\n",
              "      <td>0.408542</td>\n",
              "      <td>-0.009431</td>\n",
              "      <td>0.798278</td>\n",
              "      <td>-0.137458</td>\n",
              "      <td>0.141267</td>\n",
              "      <td>-0.206010</td>\n",
              "      <td>0.502292</td>\n",
              "      <td>0.219422</td>\n",
              "      <td>0.215153</td>\n",
              "      <td>69.99</td>\n",
              "      <td>0</td>\n",
              "    </tr>\n",
              "  </tbody>\n",
              "</table>\n",
              "</div>"
            ],
            "text/plain": [
              "   Time        V1        V2        V3  ...       V27       V28  Amount  Class\n",
              "0   0.0 -1.359807 -0.072781  2.536347  ...  0.133558 -0.021053  149.62      0\n",
              "1   0.0  1.191857  0.266151  0.166480  ... -0.008983  0.014724    2.69      0\n",
              "2   1.0 -1.358354 -1.340163  1.773209  ... -0.055353 -0.059752  378.66      0\n",
              "3   1.0 -0.966272 -0.185226  1.792993  ...  0.062723  0.061458  123.50      0\n",
              "4   2.0 -1.158233  0.877737  1.548718  ...  0.219422  0.215153   69.99      0\n",
              "\n",
              "[5 rows x 31 columns]"
            ]
          },
          "metadata": {
            "tags": []
          },
          "execution_count": 4
        }
      ]
    },
    {
      "cell_type": "code",
      "metadata": {
        "id": "lA__wmw-SIBP"
      },
      "source": [
        "# Удаляем столбец со временем\n",
        "data = df.drop(['Time'], axis=1)\n",
        "# Нормализуем столбец с суммой транзакции\n",
        "data['Amount'] = StandardScaler().fit_transform(data['Amount'].values.reshape(-1, 1))\n",
        "\n",
        "frauds = data[data.Class == 1] # записываем мошеннические операции\n",
        "normal = data[data.Class == 0] # записываем нормальные операции"
      ],
      "execution_count": null,
      "outputs": []
    },
    {
      "cell_type": "code",
      "metadata": {
        "id": "QG2ZvcTcSPSS",
        "colab": {
          "base_uri": "https://localhost:8080/"
        },
        "outputId": "7691e950-3da9-4ef9-94ec-bd5a4ed46f7c"
      },
      "source": [
        "frauds.shape # смотрим какие размеры у мошеннических операций"
      ],
      "execution_count": null,
      "outputs": [
        {
          "output_type": "execute_result",
          "data": {
            "text/plain": [
              "(492, 30)"
            ]
          },
          "metadata": {
            "tags": []
          },
          "execution_count": 6
        }
      ]
    },
    {
      "cell_type": "code",
      "metadata": {
        "id": "iyJSn49ESMb4",
        "colab": {
          "base_uri": "https://localhost:8080/"
        },
        "outputId": "460bf1d4-0d55-4698-fd93-f32eae404cee"
      },
      "source": [
        "normal.shape # смотрим какие размеры у нормальных операций"
      ],
      "execution_count": null,
      "outputs": [
        {
          "output_type": "execute_result",
          "data": {
            "text/plain": [
              "(284315, 30)"
            ]
          },
          "metadata": {
            "tags": []
          },
          "execution_count": 7
        }
      ]
    },
    {
      "cell_type": "code",
      "metadata": {
        "id": "8zFrSDquSTFq"
      },
      "source": [
        "RANDOM_SEED = 42 # задаем случайное значение\n",
        "\n",
        "# берём нормальные операции и разбиваем на train_test(только 'X')\n",
        "X_train, X_test = train_test_split(normal, test_size=0.2, random_state=RANDOM_SEED)"
      ],
      "execution_count": null,
      "outputs": []
    },
    {
      "cell_type": "code",
      "metadata": {
        "id": "GvRIAqvDSUon"
      },
      "source": [
        "# Удаляем класс в обучающем наборе данных\n",
        "#X_train = X_train.drop(['Class'], axis=1)\n",
        "# Добавляем все мошеннические транзакции в тестовый набор данных\n",
        "X_test = pd.concat([X_test, frauds])\n",
        "# Делаем метки для тестового набора данных\n",
        "y_test = X_test['Class']\n",
        "# Удаляем класс у тестового набора данных\n",
        "#X_test = X_test.drop(['Class'], axis=1)\n",
        "# Преобразуем данные в массивы numpy\n",
        "X_train = X_train.values\n",
        "X_test = X_test.values\n"
      ],
      "execution_count": null,
      "outputs": []
    },
    {
      "cell_type": "code",
      "metadata": {
        "id": "WqflqXicbX7b",
        "colab": {
          "base_uri": "https://localhost:8080/"
        },
        "outputId": "db216944-6e42-4e2e-c244-f1a3ae12fd20"
      },
      "source": [
        "print(X_train.shape) # взглянем на размеры обучающих данных"
      ],
      "execution_count": null,
      "outputs": [
        {
          "output_type": "stream",
          "text": [
            "(227452, 30)\n"
          ],
          "name": "stdout"
        }
      ]
    },
    {
      "cell_type": "code",
      "metadata": {
        "id": "6pdKLikabrGS"
      },
      "source": [
        "def creditcardAutoencoder(): # объявляем автокодировщик для определения мошенич.транзакций\n",
        " # dataSize = xTrain.shape[1] # берём размеры X_train по второй оси(29)\n",
        "  dataInput = Input(shape= (30, 1) ) # задаем эти размеры как входные в сеть\n",
        "  \n",
        "  x = Conv1D(30, 5, activation='relu', padding='same')(dataInput)\n",
        "  x = BatchNormalization()(x)\n",
        "  x = Conv1D(30, 5, activation='relu', padding='same')(x)\n",
        "  x = MaxPooling1D(padding='same')(x)\n",
        "\n",
        "  x = Conv1D(60, 5, activation='relu', padding='same')(x)\n",
        "  x = BatchNormalization()(x)\n",
        "  x = Conv1D(60, 5, activation='relu', padding='same')(x)\n",
        "  x = MaxPooling1D(pool_size=3,padding='same')(x)\n",
        "\n",
        "\n",
        "  x = Conv1DTranspose(60,5,strides=1, padding='same', activation='relu')(x)\n",
        "  x = BatchNormalization()(x)\n",
        "\n",
        "  x = Conv1D(60, 5, activation='relu', padding='same')(x)\n",
        "  x = BatchNormalization()(x)\n",
        "  x = Conv1D(60, 5, activation='relu', padding='same')(x)\n",
        "  x = BatchNormalization()(x)\n",
        "\n",
        "  x = Conv1DTranspose(30,5,strides=1, padding='same', activation='relu')(x)\n",
        "  x = BatchNormalization()(x)\n",
        "\n",
        "  x = Conv1D(30, 5, activation='relu', padding='same')(x)\n",
        "  x = BatchNormalization()(x)\n",
        "  x = Conv1D(30, 5, activation='relu', padding='same')(x)\n",
        "  x = BatchNormalization()(x)\n",
        "\n",
        "  x = Flatten()(x)\n",
        "\n",
        "  x = Dense(30, activation='linear')(x) # и через полносвязный слой размером 30 \n",
        "  \n",
        "  autoencoder = Model(inputs=dataInput, outputs=x) # собрали модель \n",
        "  \n",
        "  autoencoder.compile(optimizer=RMSprop(lr=0.0001), loss='mse') # компилируем модель также, с выбором оптимайзера и среднеквадратичной ошибки\n",
        "  \n",
        "  return autoencoder "
      ],
      "execution_count": null,
      "outputs": []
    },
    {
      "cell_type": "code",
      "metadata": {
        "id": "N2LjGoPncgRS",
        "colab": {
          "base_uri": "https://localhost:8080/"
        },
        "outputId": "9b4b1fac-541a-49b4-cf50-c7b88090775b"
      },
      "source": [
        "model = creditcardAutoencoder()\n",
        "history = model.fit(X_test, X_test,\n",
        "                    epochs=20,\n",
        "                    batch_size=32) # загружаем данные в модель(X_train'ы) и обучаем"
      ],
      "execution_count": null,
      "outputs": [
        {
          "output_type": "stream",
          "text": [
            "Epoch 1/20\n",
            "1793/1793 [==============================] - 34s 17ms/step - loss: 1.2730\n",
            "Epoch 2/20\n",
            "1793/1793 [==============================] - 30s 17ms/step - loss: 0.3402\n",
            "Epoch 3/20\n",
            "1793/1793 [==============================] - 30s 17ms/step - loss: 0.2740\n",
            "Epoch 4/20\n",
            "1793/1793 [==============================] - 30s 17ms/step - loss: 0.1526\n",
            "Epoch 5/20\n",
            "1793/1793 [==============================] - 30s 17ms/step - loss: 0.1235\n",
            "Epoch 6/20\n",
            "1793/1793 [==============================] - 30s 17ms/step - loss: 0.1252\n",
            "Epoch 7/20\n",
            "1793/1793 [==============================] - 31s 17ms/step - loss: 0.0874\n",
            "Epoch 8/20\n",
            "1793/1793 [==============================] - 30s 17ms/step - loss: 0.0662\n",
            "Epoch 9/20\n",
            "1793/1793 [==============================] - 30s 17ms/step - loss: 0.0878\n",
            "Epoch 10/20\n",
            "1793/1793 [==============================] - 30s 17ms/step - loss: 0.0581\n",
            "Epoch 11/20\n",
            "1793/1793 [==============================] - 30s 17ms/step - loss: 0.0666\n",
            "Epoch 12/20\n",
            "1793/1793 [==============================] - 31s 17ms/step - loss: 0.0796\n",
            "Epoch 13/20\n",
            "1793/1793 [==============================] - 30s 17ms/step - loss: 0.0498\n",
            "Epoch 14/20\n",
            "1793/1793 [==============================] - 30s 17ms/step - loss: 0.0580\n",
            "Epoch 15/20\n",
            "1793/1793 [==============================] - 30s 17ms/step - loss: 0.0814\n",
            "Epoch 16/20\n",
            "1793/1793 [==============================] - 31s 17ms/step - loss: 0.0536\n",
            "Epoch 17/20\n",
            "1793/1793 [==============================] - 31s 17ms/step - loss: 0.0378\n",
            "Epoch 18/20\n",
            "1793/1793 [==============================] - 30s 17ms/step - loss: 0.0369\n",
            "Epoch 19/20\n",
            "1793/1793 [==============================] - 31s 17ms/step - loss: 0.0604\n",
            "Epoch 20/20\n",
            "1793/1793 [==============================] - 31s 17ms/step - loss: 0.0723\n"
          ],
          "name": "stdout"
        }
      ]
    },
    {
      "cell_type": "code",
      "metadata": {
        "colab": {
          "base_uri": "https://localhost:8080/"
        },
        "id": "PdSUX7ZGdQTy",
        "outputId": "90413b74-7111-4074-e4ee-010dc619bd9a"
      },
      "source": [
        "model.summary()"
      ],
      "execution_count": null,
      "outputs": [
        {
          "output_type": "stream",
          "text": [
            "Model: \"model_2\"\n",
            "_________________________________________________________________\n",
            "Layer (type)                 Output Shape              Param #   \n",
            "=================================================================\n",
            "input_3 (InputLayer)         [(None, 30, 1)]           0         \n",
            "_________________________________________________________________\n",
            "conv1d_24 (Conv1D)           (None, 30, 30)            180       \n",
            "_________________________________________________________________\n",
            "batch_normalization_24 (Batc (None, 30, 30)            120       \n",
            "_________________________________________________________________\n",
            "conv1d_25 (Conv1D)           (None, 30, 30)            4530      \n",
            "_________________________________________________________________\n",
            "max_pooling1d_6 (MaxPooling1 (None, 15, 30)            0         \n",
            "_________________________________________________________________\n",
            "conv1d_26 (Conv1D)           (None, 15, 60)            9060      \n",
            "_________________________________________________________________\n",
            "batch_normalization_25 (Batc (None, 15, 60)            240       \n",
            "_________________________________________________________________\n",
            "conv1d_27 (Conv1D)           (None, 15, 60)            18060     \n",
            "_________________________________________________________________\n",
            "max_pooling1d_7 (MaxPooling1 (None, 5, 60)             0         \n",
            "_________________________________________________________________\n",
            "conv1d_transpose_6 (Conv1DTr (None, 5, 60)             18060     \n",
            "_________________________________________________________________\n",
            "batch_normalization_26 (Batc (None, 5, 60)             240       \n",
            "_________________________________________________________________\n",
            "conv1d_28 (Conv1D)           (None, 5, 60)             18060     \n",
            "_________________________________________________________________\n",
            "batch_normalization_27 (Batc (None, 5, 60)             240       \n",
            "_________________________________________________________________\n",
            "conv1d_29 (Conv1D)           (None, 5, 60)             18060     \n",
            "_________________________________________________________________\n",
            "batch_normalization_28 (Batc (None, 5, 60)             240       \n",
            "_________________________________________________________________\n",
            "conv1d_transpose_7 (Conv1DTr (None, 5, 30)             9030      \n",
            "_________________________________________________________________\n",
            "batch_normalization_29 (Batc (None, 5, 30)             120       \n",
            "_________________________________________________________________\n",
            "conv1d_30 (Conv1D)           (None, 5, 30)             4530      \n",
            "_________________________________________________________________\n",
            "batch_normalization_30 (Batc (None, 5, 30)             120       \n",
            "_________________________________________________________________\n",
            "conv1d_31 (Conv1D)           (None, 5, 30)             4530      \n",
            "_________________________________________________________________\n",
            "batch_normalization_31 (Batc (None, 5, 30)             120       \n",
            "_________________________________________________________________\n",
            "flatten_2 (Flatten)          (None, 150)               0         \n",
            "_________________________________________________________________\n",
            "dense_3 (Dense)              (None, 30)                4530      \n",
            "=================================================================\n",
            "Total params: 110,070\n",
            "Trainable params: 109,350\n",
            "Non-trainable params: 720\n",
            "_________________________________________________________________\n"
          ],
          "name": "stdout"
        }
      ]
    },
    {
      "cell_type": "code",
      "metadata": {
        "id": "NOwSVExle9Bm"
      },
      "source": [
        "def getAccByBias(bias): # функция будет принимать какое то пороговое значение\n",
        "  isNormal = mse_normal < bias # если ошибка меньше порога - то транзакция нормальная\n",
        "  isFrauds = mse_frauds > bias # если ошибка больше порога - то транзакция мошенническая\n",
        "\n",
        "  accNormal = sum(isNormal) / len(isNormal) # вычисляем процент нормальных операций\n",
        "  accFaruds = sum(isFrauds) / len(isFrauds) # вычисляем процент мошеннических операций\n",
        "  sum_acc = accNormal + accFaruds\n",
        "  #print(\"Распознано нормальных трансакций: \", round(100*accNormal), \"%\", sep=\"\")\n",
        "  #print(\"Распознано мошеннических трансакций: \", round(100*accFaruds), \"%\", sep=\"\")\n",
        "  #print(\"Средняя точность распознавания: \", round(50*(accNormal + accFaruds)), \"%\", sep=\"\")\n",
        "  return sum_acc"
      ],
      "execution_count": null,
      "outputs": []
    },
    {
      "cell_type": "code",
      "metadata": {
        "id": "roDwI7AcRqMu"
      },
      "source": [
        "def getAccByBias_percent(bias): # функция будет принимать какое то пороговое значение\r\n",
        "  isNormal = mse_normal < bias # если ошибка меньше порога - то транзакция нормальная\r\n",
        "  isFrauds = mse_frauds > bias # если ошибка больше порога - то транзакция мошенническая\r\n",
        "\r\n",
        "  accNormal = sum(isNormal) / len(isNormal) # вычисляем процент нормальных операций\r\n",
        "  accFaruds = sum(isFrauds) / len(isFrauds) # вычисляем процент мошеннических операций\r\n",
        "  sum_acc = accNormal + accFaruds\r\n",
        "  print(\"Распознано нормальных трансакций: \", round(100*accNormal), \"%\", sep=\"\")\r\n",
        "  print(\"Распознано мошеннических трансакций: \", round(100*accFaruds), \"%\", sep=\"\")\r\n",
        "  print(\"Средняя точность распознавания: \", round(50*(accNormal + accFaruds)), \"%\", sep=\"\")"
      ],
      "execution_count": null,
      "outputs": []
    },
    {
      "cell_type": "code",
      "metadata": {
        "id": "g_a2nEGcdSLg",
        "colab": {
          "base_uri": "https://localhost:8080/"
        },
        "outputId": "91aec4b5-c922-45b2-f0be-73ab21102310"
      },
      "source": [
        "predictions = model.predict(X_test) # делаем предсказание по X_test\r\n",
        "mse = np.mean(np.power(X_test - predictions, 2), axis=1) # определяем среднеквадратичную ошибку по X_test и предсказанием по X_test\r\n",
        "mse_normal = mse[y_test.values == 0] # среднеквадратичная ошибка на нормальных операциях\r\n",
        "mse_frauds = mse[y_test.values == 1] # среднеквадратичная ошибка на мошеннических операциях\r\n",
        "\r\n",
        "print(\"Минимальная ошибка нормальных трансакций:\", round(min(mse_normal),4)) #найдем минимальную среднеквадратичную ошибку на нормальных операциях\r\n",
        "print(\"Максимальная ошибка нормальных трансакций:\", round(max(mse_normal),4)) #найдем максимальную среднеквадратичную ошибку на нормальных операциях\r\n",
        "print(\"Средняя ошибка нормальных трансакций:\", round(sum(mse_normal) / len(mse_normal),4)) # среднюю ошибку\r\n",
        "print(' ')\r\n",
        "print(\"Минимальная ошибка мошеннических трансакций:\", round(min(mse_frauds),4)) #найдем минимальную среднеквадратичную ошибку на мошеннических операциях\r\n",
        "print(\"Максимальная ошибка мошеннических трансакций:\", round(max(mse_frauds),4)) #найдем максимальную среднеквадратичную ошибку на мошеннических операциях\r\n",
        "print(\"Средняя ошибка мошеннических трансакций:\", round(sum(mse_frauds) / len(mse_frauds),4)) # среднюю ошибку"
      ],
      "execution_count": null,
      "outputs": [
        {
          "output_type": "stream",
          "text": [
            "Минимальная ошибка нормальных трансакций: 0.0058\n",
            "Максимальная ошибка нормальных трансакций: 102.6194\n",
            "Средняя ошибка нормальных трансакций: 0.0272\n",
            " \n",
            "Минимальная ошибка мошеннических трансакций: 0.0366\n",
            "Максимальная ошибка мошеннических трансакций: 21.5456\n",
            "Средняя ошибка мошеннических трансакций: 0.6893\n"
          ],
          "name": "stdout"
        }
      ]
    },
    {
      "cell_type": "code",
      "metadata": {
        "id": "AL5SIXk2QEKx"
      },
      "source": [
        "mseFraud = round(sum(mse_frauds) / len(mse_frauds),4)\r\n",
        "mseNorm = round(min(mse_normal),4)"
      ],
      "execution_count": null,
      "outputs": []
    },
    {
      "cell_type": "code",
      "metadata": {
        "colab": {
          "base_uri": "https://localhost:8080/"
        },
        "id": "3hFf2Z-1PHwP",
        "outputId": "f3dac39a-4313-4e88-b7e1-c8664218c770"
      },
      "source": [
        "# Ищем лучший коэффициент для bias\r\n",
        "best = []\r\n",
        "number = 0\r\n",
        "for i in np.linspace(0.001, 1, 100):\r\n",
        "  if  getAccByBias(i)> 1.86:\r\n",
        "    best.append(getAccByBias(i))\r\n",
        "    print(round(getAccByBias(i),2), 'Сейчас такое, лучшее ------>',round(np.array(best).max(),2),   '         значение i = ', i)\r\n"
      ],
      "execution_count": null,
      "outputs": [
        {
          "output_type": "stream",
          "text": [
            "1.87 Сейчас такое, лучшее ------> 1.87          значение i =  0.03127272727272727\n",
            "1.92 Сейчас такое, лучшее ------> 1.92          значение i =  0.041363636363636366\n",
            "1.9 Сейчас такое, лучшее ------> 1.92          значение i =  0.05145454545454546\n",
            "1.86 Сейчас такое, лучшее ------> 1.92          значение i =  0.06154545454545455\n"
          ],
          "name": "stdout"
        }
      ]
    },
    {
      "cell_type": "code",
      "metadata": {
        "colab": {
          "base_uri": "https://localhost:8080/"
        },
        "id": "sKf74BaKIa_J",
        "outputId": "d8857fac-a157-46d3-ad49-e3f72f64fbe0"
      },
      "source": [
        "getAccByBias_percent(0.041363636363636366)"
      ],
      "execution_count": null,
      "outputs": [
        {
          "output_type": "stream",
          "text": [
            "Распознано нормальных трансакций: 92%\n",
            "Распознано мошеннических трансакций: 100%\n",
            "Средняя точность распознавания: 96%\n"
          ],
          "name": "stdout"
        }
      ]
    }
  ]
}
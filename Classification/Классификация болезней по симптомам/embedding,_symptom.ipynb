{
  "nbformat": 4,
  "nbformat_minor": 0,
  "metadata": {
    "colab": {
      "name": "embedding, symptom",
      "provenance": [],
      "authorship_tag": "ABX9TyPZMombhwMANDwLh0WJkX7h",
      "include_colab_link": true
    },
    "kernelspec": {
      "name": "python3",
      "display_name": "Python 3"
    }
  },
  "cells": [
    {
      "cell_type": "markdown",
      "metadata": {
        "id": "view-in-github",
        "colab_type": "text"
      },
      "source": [
        "<a href=\"https://colab.research.google.com/github/seacatgm/-/blob/main/Classification/%D0%9A%D0%BB%D0%B0%D1%81%D1%81%D0%B8%D1%84%D0%B8%D0%BA%D0%B0%D1%86%D0%B8%D1%8F%20%D0%B1%D0%BE%D0%BB%D0%B5%D0%B7%D0%BD%D0%B5%D0%B9%20%D0%BF%D0%BE%20%D1%81%D0%B8%D0%BC%D0%BF%D1%82%D0%BE%D0%BC%D0%B0%D0%BC/embedding%2C_symptom.ipynb\" target=\"_parent\"><img src=\"https://colab.research.google.com/assets/colab-badge.svg\" alt=\"Open In Colab\"/></a>"
      ]
    },
    {
      "cell_type": "code",
      "metadata": {
        "id": "rBTtiYmSsVeL"
      },
      "source": [
        "from google.colab import files\r\n",
        "import numpy as np\r\n",
        "import pandas as pd\r\n",
        "import matplotlib.pyplot as plt\r\n",
        "import os\r\n",
        "%matplotlib inline\r\n",
        "\r\n",
        "from tensorflow.keras import utils\r\n",
        "from tensorflow.keras.models import Sequential\r\n",
        "from tensorflow.keras.layers import Dense, Dropout, SpatialDropout1D, BatchNormalization, Embedding, Flatten, Activation\r\n",
        "from tensorflow.keras.layers import Conv1D, SpatialDropout1D, MaxPooling1D, GlobalAveragePooling1D, GlobalMaxPooling1D\r\n",
        "from tensorflow.keras.layers import LSTM, GRU, SimpleRNN, Bidirectional\r\n",
        "from tensorflow.python.keras.optimizers import Adam, RMSprop\r\n",
        "from tensorflow.keras.preprocessing.text import Tokenizer, text_to_word_sequence\r\n",
        "from tensorflow.keras.preprocessing.sequence import pad_sequences\r\n",
        "\r\n",
        "from sklearn.preprocessing import LabelEncoder\r\n",
        "from sklearn.model_selection import train_test_split\r\n",
        "from google.colab import drive\r\n",
        "import time\r\n"
      ],
      "execution_count": null,
      "outputs": []
    },
    {
      "cell_type": "code",
      "metadata": {
        "colab": {
          "base_uri": "https://localhost:8080/"
        },
        "id": "_EhGnY39sXJe",
        "outputId": "fd13037c-e0db-41b6-b301-0fd5085a24c7"
      },
      "source": [
        "drive.mount('/content/drive')"
      ],
      "execution_count": null,
      "outputs": [
        {
          "output_type": "stream",
          "text": [
            "Mounted at /content/drive\n"
          ],
          "name": "stdout"
        }
      ]
    },
    {
      "cell_type": "code",
      "metadata": {
        "id": "MVv0IF4ZscS9",
        "colab": {
          "base_uri": "https://localhost:8080/"
        },
        "outputId": "b6c49741-cfa3-427b-990d-c07a7f25e860"
      },
      "source": [
        "!rm -R '/content/symptom' # проверяем есть ли папка symptom, если есть то удаляем"
      ],
      "execution_count": null,
      "outputs": [
        {
          "output_type": "stream",
          "text": [
            "rm: cannot remove '/content/symptom': No such file or directory\n"
          ],
          "name": "stdout"
        }
      ]
    },
    {
      "cell_type": "code",
      "metadata": {
        "id": "HZSs4go7slQK"
      },
      "source": [
        "!unzip -q '/content/drive/My Drive/neuro/base/болезни.zip' -d '/content/symptom' # загружаем базу "
      ],
      "execution_count": null,
      "outputs": []
    },
    {
      "cell_type": "code",
      "metadata": {
        "id": "bWDm1QuBszVp"
      },
      "source": [
        "def readText(fileName): # Объявляем функции для чтения файла. На вход отправляем путь к файлу\r\n",
        "  f = open(fileName, 'r') # Задаем открытие нужного файла в режиме чтения\r\n",
        "  text = f.read() # Читаем файл\r\n",
        "  text = text.replace('\\n', ' ') # Переносы строки заменяем пробелами\r\n",
        "  return text\r\n",
        "\r\n",
        "className = [\"Язва\", \"Энтерит\", \"Эзофагит\", \"Холицестит\", \"Панкреатит\", \"Колит\",\\  # задаем названия классов для наглядности\r\n",
        "             \"Дуоденит\", \"Гепатит\", \"Гастрит\", \"Аппендицит\"] \r\n",
        "nClasses = len(className) # считаем количество классов"
      ],
      "execution_count": null,
      "outputs": []
    },
    {
      "cell_type": "code",
      "metadata": {
        "colab": {
          "base_uri": "https://localhost:8080/"
        },
        "id": "VO8yj1mFyltS",
        "outputId": "818e6b40-f6f8-44ea-aad3-4abd7a44ce2b"
      },
      "source": [
        "os.listdir('symptom/') # Посмотрим что содержит папка"
      ],
      "execution_count": null,
      "outputs": [
        {
          "output_type": "execute_result",
          "data": {
            "text/plain": [
              "['Аппендицит.txt',\n",
              " 'Язва.txt',\n",
              " 'Панкреатит.txt',\n",
              " 'Холицестит.txt',\n",
              " 'Эзофагит.txt',\n",
              " 'Энтерит.txt',\n",
              " 'Гепатит.txt',\n",
              " 'Гастрит.txt',\n",
              " 'Колит.txt',\n",
              " 'Дуоденит.txt']"
            ]
          },
          "metadata": {
            "tags": []
          },
          "execution_count": 6
        }
      ]
    },
    {
      "cell_type": "code",
      "metadata": {
        "id": "6wedHpI5LDd2"
      },
      "source": [
        "def split_text(symptom): # функция прнимает текст и возвращает две выборки одна состоит из 80% текста другая 20%, обучающая и поверочная\r\n",
        "  symptom = symptom.split() # разбиваем текст\r\n",
        "  x = round(len(symptom)*0.8) # Берем 80% от текста\r\n",
        "  xTrain = symptom[:x] # делаем срез от 0% до 80%\r\n",
        "  yTrain = symptom[x:] # делаем срез от 80% до 100%\r\n",
        "\r\n",
        "  return xTrain, yTrain "
      ],
      "execution_count": null,
      "outputs": []
    },
    {
      "cell_type": "code",
      "metadata": {
        "colab": {
          "base_uri": "https://localhost:8080/"
        },
        "id": "8X3dIG95uh-P",
        "outputId": "7c9fb1d1-eb37-4bd0-b628-b80acaf620c7"
      },
      "source": [
        "trainText = [] # Здесь будут обучающие тексты\r\n",
        "testText = [] # Здесь будут проверочные тексты\r\n",
        "x, y = [], [] # здесь будем хранить сплит наших выборок\r\n",
        "for i in className: # Проходим по каждому классу\r\n",
        "  for j in os.listdir('symptom/'): # Проходим по каждому файлу в папке с текстами\r\n",
        "    if i in j:  # Проверяем, содержит ли файл j в названии имя класса i\r\n",
        "      x, y = split_text(readText('symptom/' + j)) # добавляем выборки в х и у\r\n",
        "      trainText.append(x) # добавляем обучающую выборку\r\n",
        "      print(j, 'добавлен в обучающую выборку') \r\n",
        "      testText.append(y) # добавляем поверочную выборку\r\n",
        "      print(j, 'добавлен в тестовую выборку')\r\n",
        "  print()"
      ],
      "execution_count": null,
      "outputs": [
        {
          "output_type": "stream",
          "text": [
            "Язва.txt добавлен в обучающую выборку\n",
            "Язва.txt добавлен в тестовую выборку\n",
            "\n",
            "Энтерит.txt добавлен в обучающую выборку\n",
            "Энтерит.txt добавлен в тестовую выборку\n",
            "\n",
            "Эзофагит.txt добавлен в обучающую выборку\n",
            "Эзофагит.txt добавлен в тестовую выборку\n",
            "\n",
            "Холицестит.txt добавлен в обучающую выборку\n",
            "Холицестит.txt добавлен в тестовую выборку\n",
            "\n",
            "Панкреатит.txt добавлен в обучающую выборку\n",
            "Панкреатит.txt добавлен в тестовую выборку\n",
            "\n",
            "Колит.txt добавлен в обучающую выборку\n",
            "Колит.txt добавлен в тестовую выборку\n",
            "\n",
            "Дуоденит.txt добавлен в обучающую выборку\n",
            "Дуоденит.txt добавлен в тестовую выборку\n",
            "\n",
            "Гепатит.txt добавлен в обучающую выборку\n",
            "Гепатит.txt добавлен в тестовую выборку\n",
            "\n",
            "Гастрит.txt добавлен в обучающую выборку\n",
            "Гастрит.txt добавлен в тестовую выборку\n",
            "\n",
            "Аппендицит.txt добавлен в обучающую выборку\n",
            "Аппендицит.txt добавлен в тестовую выборку\n",
            "\n"
          ],
          "name": "stdout"
        }
      ]
    },
    {
      "cell_type": "code",
      "metadata": {
        "id": "rVR_9ifwuwTJ"
      },
      "source": [
        "# Формирование обучающей выборки по листу индексов слов\r\n",
        "def getSetFromIndexes(wordIndexes, xLen, step): # функция принимает последовательность индексов, размер окна, шаг окна\r\n",
        "  xSample = [] # Объявляем переменную для векторов\r\n",
        "  wordsLen = len(wordIndexes) # Считаем количество слов\r\n",
        "  index = 0 # Задаем начальный индекс \r\n",
        "  while (index + xLen <= wordsLen): # Идём по всей длине вектора индексов\r\n",
        "    xSample.append(wordIndexes[index:index+xLen]) # \"Откусываем\" векторы длины xLen\r\n",
        "    index += step # Смещаемся вперёд на step\r\n",
        "    \r\n",
        "  return xSample"
      ],
      "execution_count": null,
      "outputs": []
    },
    {
      "cell_type": "code",
      "metadata": {
        "id": "40VsFCrYuxm5"
      },
      "source": [
        "# Формирование обучающей и проверочной выборки\r\n",
        "# Из двух листов индексов от двух классов\r\n",
        "def createSetsMultiClasses(wordIndexes, xLen, step):# Функция принимает последовательность индексов, размер окна, шаг окна\r\n",
        "  # Для каждого из 6 классов\r\n",
        "  # Создаём обучающую/проверочную выборку из индексов\r\n",
        "  nClasses = len(wordIndexes) # Задаем количество классов выборки\r\n",
        "  classesXSamples = []  # Здесь будет список размером \"кол-во классов*кол-во окон в тексте*длину окна \r\n",
        "  for wI in wordIndexes: # Для каждого текста выборки из последовательности индексов\r\n",
        "    classesXSamples.append(getSetFromIndexes(wI, xLen, step)) # Добавляем в список очередной текст индексов, разбитый на \"кол-во окон*длину окна\" \r\n",
        "  xSamples = [] # Здесь будет список размером \"суммарное кол-во окон во всех текстах*длину окна\r\n",
        "  ySamples = [] # Здесь будет список размером \"суммарное кол-во окон во всех текстах*вектор длиной 6\r\n",
        "\r\n",
        "  for t in range(nClasses): # В диапазоне кол-ва классов(6)\r\n",
        "    xT = classesXSamples[t]  # Берем очередной текст вида \"кол-во окон в тексте*длину окна\r\n",
        "    for i in range(len(xT)): # И каждое его окно\r\n",
        "      xSamples.append(xT[i]) # Добавляем в общий список выборки\r\n",
        "      ySamples.append(utils.to_categorical(t, nClasses)) # Добавляем соответствующий вектор класса\r\n",
        "  xSamples = np.array(xSamples) # Переводим в массив numpy для подачи в сеть\r\n",
        "  ySamples = np.array(ySamples) # Переводим в массив numpy для подачи в сеть\r\n",
        "\r\n",
        "  return (xSamples, ySamples)"
      ],
      "execution_count": null,
      "outputs": []
    },
    {
      "cell_type": "code",
      "metadata": {
        "id": "G9KwAXPWu1TB"
      },
      "source": [
        "maxWordsCount = 5000 # задаем лимит по количеству слов, берем 20 000 самых часто встречающихся \r\n",
        "# Воспользуемся встроенной в Keras функцией Tokenizer для разбиения текста и превращения в матрицу числовых значений\r\n",
        "tokenizer = Tokenizer(num_words=maxWordsCount, lower=True, split=' ', oov_token='unknown', char_level=False)\r\n",
        "\r\n",
        "tokenizer.fit_on_texts(trainText) # даём в обработку методу, который соберет словарь частотности\r\n",
        "items = list(tokenizer.word_index.items()) # Вытаскиваем индексы слов \r\n",
        "\r\n",
        "xLen = 50 # задаем размер окна\r\n",
        "step = 5 # задаем шаг\r\n",
        "\r\n",
        "trainWordIdx = tokenizer.texts_to_sequences(trainText) # Обучающие тексты в индексы\r\n",
        "testWordIdx = tokenizer.texts_to_sequences(testText) # Поверочные тексты в индексы\r\n",
        "\r\n",
        "xTrain, yTrain = createSetsMultiClasses(trainWordIdx, xLen, step) # извлекаем обучающую выборку\r\n",
        "xTest, yTest = createSetsMultiClasses(testWordIdx, xLen, step) # извлекаем поверочную выборку\r\n",
        "\r\n",
        "xTrain01 = tokenizer.sequences_to_matrix(xTrain.tolist()) # Преобразовываем полученные выборки из последовательности индексов в матрицы нулей и единиц по принципу Bag of Words\r\n",
        "xTest01 = tokenizer.sequences_to_matrix(xTest.tolist()) # Преобразовываем полученные выборки из последовательности индексов в матрицы нулей и единиц по принципу Bag of Words"
      ],
      "execution_count": null,
      "outputs": []
    },
    {
      "cell_type": "code",
      "metadata": {
        "colab": {
          "base_uri": "https://localhost:8080/",
          "height": 1000
        },
        "id": "ScwbXq_ZT5x5",
        "outputId": "dbedcb4c-b2e7-4fa9-f7f0-9c1dc0181035"
      },
      "source": [
        "# Embedding + LSTM, результат 52%\r\n",
        "\r\n",
        "modelE = Sequential() \r\n",
        "\r\n",
        "modelE.add(Embedding(maxWordsCount, 10, input_length=xLen))\r\n",
        "modelE.add(LSTM(4, return_sequences=1))\r\n",
        "modelE.add(Dropout(0.1)) \r\n",
        "modelE.add(BatchNormalization()) \r\n",
        "modelE.add(Flatten()) \r\n",
        "\r\n",
        "modelE.add(Dense(10, activation='softmax')) \r\n",
        "\r\n",
        "modelE.compile(optimizer='rmsprop', \r\n",
        "              loss='categorical_crossentropy', \r\n",
        "              metrics=['accuracy'])\r\n",
        "\r\n",
        "history = modelE.fit(xTrain, \r\n",
        "                    yTrain, \r\n",
        "                    epochs=43,\r\n",
        "                    batch_size=64,\r\n",
        "                    validation_data=(xTest, yTest))\r\n",
        "\r\n",
        "plt.plot(history.history['accuracy'], \r\n",
        "         label='Доля верных ответов на обучающем наборе')\r\n",
        "plt.plot(history.history['val_accuracy'], \r\n",
        "         label='Доля верных ответов на проверочном наборе')\r\n",
        "plt.xlabel('Эпоха обучения')\r\n",
        "plt.ylabel('Доля верных ответов')\r\n",
        "plt.legend()\r\n",
        "plt.show()"
      ],
      "execution_count": null,
      "outputs": [
        {
          "output_type": "stream",
          "text": [
            "Epoch 1/43\n",
            "16/16 [==============================] - 1s 50ms/step - loss: 2.1972 - accuracy: 0.1806 - val_loss: 2.2585 - val_accuracy: 0.2124\n",
            "Epoch 2/43\n",
            "16/16 [==============================] - 0s 21ms/step - loss: 1.5381 - accuracy: 0.5308 - val_loss: 2.2228 - val_accuracy: 0.1606\n",
            "Epoch 3/43\n",
            "16/16 [==============================] - 0s 22ms/step - loss: 0.9898 - accuracy: 0.7530 - val_loss: 2.1995 - val_accuracy: 0.1658\n",
            "Epoch 4/43\n",
            "16/16 [==============================] - 0s 22ms/step - loss: 0.6040 - accuracy: 0.8800 - val_loss: 2.1809 - val_accuracy: 0.1658\n",
            "Epoch 5/43\n",
            "16/16 [==============================] - 0s 22ms/step - loss: 0.3628 - accuracy: 0.9484 - val_loss: 2.1566 - val_accuracy: 0.1865\n",
            "Epoch 6/43\n",
            "16/16 [==============================] - 0s 21ms/step - loss: 0.1985 - accuracy: 0.9891 - val_loss: 2.1339 - val_accuracy: 0.2176\n",
            "Epoch 7/43\n",
            "16/16 [==============================] - 0s 23ms/step - loss: 0.1037 - accuracy: 0.9970 - val_loss: 2.1028 - val_accuracy: 0.2902\n",
            "Epoch 8/43\n",
            "16/16 [==============================] - 0s 22ms/step - loss: 0.0491 - accuracy: 0.9990 - val_loss: 2.0811 - val_accuracy: 0.3161\n",
            "Epoch 9/43\n",
            "16/16 [==============================] - 0s 21ms/step - loss: 0.0270 - accuracy: 1.0000 - val_loss: 2.0450 - val_accuracy: 0.3316\n",
            "Epoch 10/43\n",
            "16/16 [==============================] - 0s 22ms/step - loss: 0.0152 - accuracy: 1.0000 - val_loss: 2.0069 - val_accuracy: 0.4093\n",
            "Epoch 11/43\n",
            "16/16 [==============================] - 0s 22ms/step - loss: 0.0075 - accuracy: 1.0000 - val_loss: 2.0048 - val_accuracy: 0.4093\n",
            "Epoch 12/43\n",
            "16/16 [==============================] - 0s 23ms/step - loss: 0.0052 - accuracy: 0.9990 - val_loss: 1.9784 - val_accuracy: 0.4560\n",
            "Epoch 13/43\n",
            "16/16 [==============================] - 0s 23ms/step - loss: 0.0037 - accuracy: 1.0000 - val_loss: 1.9289 - val_accuracy: 0.4560\n",
            "Epoch 14/43\n",
            "16/16 [==============================] - 0s 22ms/step - loss: 0.0017 - accuracy: 1.0000 - val_loss: 1.9267 - val_accuracy: 0.4663\n",
            "Epoch 15/43\n",
            "16/16 [==============================] - 0s 23ms/step - loss: 0.0011 - accuracy: 1.0000 - val_loss: 1.9312 - val_accuracy: 0.4560\n",
            "Epoch 16/43\n",
            "16/16 [==============================] - 0s 23ms/step - loss: 9.1500e-04 - accuracy: 1.0000 - val_loss: 1.9606 - val_accuracy: 0.4663\n",
            "Epoch 17/43\n",
            "16/16 [==============================] - 0s 24ms/step - loss: 4.0439e-04 - accuracy: 1.0000 - val_loss: 1.9811 - val_accuracy: 0.4870\n",
            "Epoch 18/43\n",
            "16/16 [==============================] - 0s 23ms/step - loss: 2.0610e-04 - accuracy: 1.0000 - val_loss: 1.9374 - val_accuracy: 0.4974\n",
            "Epoch 19/43\n",
            "16/16 [==============================] - 0s 22ms/step - loss: 1.5283e-04 - accuracy: 1.0000 - val_loss: 2.0749 - val_accuracy: 0.5078\n",
            "Epoch 20/43\n",
            "16/16 [==============================] - 0s 22ms/step - loss: 9.7468e-05 - accuracy: 1.0000 - val_loss: 2.0651 - val_accuracy: 0.5130\n",
            "Epoch 21/43\n",
            "16/16 [==============================] - 0s 24ms/step - loss: 5.8613e-05 - accuracy: 1.0000 - val_loss: 2.1294 - val_accuracy: 0.4922\n",
            "Epoch 22/43\n",
            "16/16 [==============================] - 0s 23ms/step - loss: 3.2023e-05 - accuracy: 1.0000 - val_loss: 2.1243 - val_accuracy: 0.5026\n",
            "Epoch 23/43\n",
            "16/16 [==============================] - 0s 21ms/step - loss: 2.4985e-05 - accuracy: 1.0000 - val_loss: 2.1911 - val_accuracy: 0.5026\n",
            "Epoch 24/43\n",
            "16/16 [==============================] - 0s 22ms/step - loss: 2.1743e-05 - accuracy: 1.0000 - val_loss: 2.2460 - val_accuracy: 0.4611\n",
            "Epoch 25/43\n",
            "16/16 [==============================] - 0s 23ms/step - loss: 1.0793e-05 - accuracy: 1.0000 - val_loss: 2.4972 - val_accuracy: 0.4819\n",
            "Epoch 26/43\n",
            "16/16 [==============================] - 0s 23ms/step - loss: 5.9049e-06 - accuracy: 1.0000 - val_loss: 2.6228 - val_accuracy: 0.5130\n",
            "Epoch 27/43\n",
            "16/16 [==============================] - 0s 23ms/step - loss: 2.9573e-06 - accuracy: 1.0000 - val_loss: 2.9580 - val_accuracy: 0.5440\n",
            "Epoch 28/43\n",
            "16/16 [==============================] - 0s 22ms/step - loss: 4.2274e-06 - accuracy: 1.0000 - val_loss: 3.0519 - val_accuracy: 0.5337\n",
            "Epoch 29/43\n",
            "16/16 [==============================] - 0s 23ms/step - loss: 2.9211e-06 - accuracy: 1.0000 - val_loss: 2.9549 - val_accuracy: 0.4974\n",
            "Epoch 30/43\n",
            "16/16 [==============================] - 0s 23ms/step - loss: 1.6393e-06 - accuracy: 1.0000 - val_loss: 3.8281 - val_accuracy: 0.4767\n",
            "Epoch 31/43\n",
            "16/16 [==============================] - 0s 22ms/step - loss: 3.2543e-06 - accuracy: 1.0000 - val_loss: 4.4697 - val_accuracy: 0.4663\n",
            "Epoch 32/43\n",
            "16/16 [==============================] - 0s 22ms/step - loss: 1.3515e-06 - accuracy: 1.0000 - val_loss: 4.3498 - val_accuracy: 0.4974\n",
            "Epoch 33/43\n",
            "16/16 [==============================] - 0s 23ms/step - loss: 7.7107e-07 - accuracy: 1.0000 - val_loss: 4.3266 - val_accuracy: 0.5130\n",
            "Epoch 34/43\n",
            "16/16 [==============================] - 0s 21ms/step - loss: 8.5089e-07 - accuracy: 1.0000 - val_loss: 5.2170 - val_accuracy: 0.4767\n",
            "Epoch 35/43\n",
            "16/16 [==============================] - 0s 23ms/step - loss: 8.5539e-07 - accuracy: 1.0000 - val_loss: 5.1370 - val_accuracy: 0.5078\n",
            "Epoch 36/43\n",
            "16/16 [==============================] - 0s 23ms/step - loss: 6.7208e-07 - accuracy: 1.0000 - val_loss: 5.0626 - val_accuracy: 0.5078\n",
            "Epoch 37/43\n",
            "16/16 [==============================] - 0s 21ms/step - loss: 4.6726e-07 - accuracy: 1.0000 - val_loss: 5.0280 - val_accuracy: 0.5233\n",
            "Epoch 38/43\n",
            "16/16 [==============================] - 0s 23ms/step - loss: 1.3896e-07 - accuracy: 1.0000 - val_loss: 5.1604 - val_accuracy: 0.5181\n",
            "Epoch 39/43\n",
            "16/16 [==============================] - 0s 23ms/step - loss: 1.6841e-07 - accuracy: 1.0000 - val_loss: 6.3753 - val_accuracy: 0.4663\n",
            "Epoch 40/43\n",
            "16/16 [==============================] - 0s 23ms/step - loss: 1.5871e-07 - accuracy: 1.0000 - val_loss: 5.4082 - val_accuracy: 0.5544\n",
            "Epoch 41/43\n",
            "16/16 [==============================] - 0s 24ms/step - loss: 3.3811e-07 - accuracy: 1.0000 - val_loss: 6.0075 - val_accuracy: 0.5389\n",
            "Epoch 42/43\n",
            "16/16 [==============================] - 0s 22ms/step - loss: 9.7685e-08 - accuracy: 1.0000 - val_loss: 6.1821 - val_accuracy: 0.5389\n",
            "Epoch 43/43\n",
            "16/16 [==============================] - 0s 22ms/step - loss: 1.2122e-07 - accuracy: 1.0000 - val_loss: 5.9532 - val_accuracy: 0.5233\n"
          ],
          "name": "stdout"
        },
        {
          "output_type": "display_data",
          "data": {
            "image/png": "[encoded data removed]",
            "text/plain": [
              "<Figure size 432x288 with 1 Axes>"
            ]
          },
          "metadata": {
            "tags": [],
            "needs_background": "light"
          }
        }
      ]
    },
    {
      "cell_type": "code",
      "metadata": {
        "colab": {
          "base_uri": "https://localhost:8080/",
          "height": 1000
        },
        "id": "mMTjwnWyXX6H",
        "outputId": "8aecf74d-76e8-4506-d5a4-4783f548a856"
      },
      "source": [
        "# Embedding + Conv1D, результат 25%\r\n",
        "modelE = Sequential() \r\n",
        "\r\n",
        "modelE.add(Embedding(maxWordsCount, 5, input_length=xLen))\r\n",
        "\r\n",
        "modelE.add(SpatialDropout1D(0.2))\r\n",
        "modelE.add(BatchNormalization()) \r\n",
        "modelE.add(Conv1D(20, 3, activation=\"relu\"))  \r\n",
        "modelE.add(Dropout(0.1))  \r\n",
        "modelE.add(Flatten()) \r\n",
        "modelE.add(Dense(10, activation='softmax')) \r\n",
        "\r\n",
        "modelE.compile(optimizer='rmsprop', \r\n",
        "              loss='categorical_crossentropy', \r\n",
        "              metrics=['accuracy'])\r\n",
        "\r\n",
        "history = modelE.fit(xTrain, \r\n",
        "                    yTrain, \r\n",
        "                    epochs=45,\r\n",
        "                    batch_size=64,\r\n",
        "                    validation_data=(xTest, yTest))\r\n",
        "\r\n",
        "plt.plot(history.history['accuracy'], \r\n",
        "         label='Доля верных ответов на обучающем наборе')\r\n",
        "plt.plot(history.history['val_accuracy'], \r\n",
        "         label='Доля верных ответов на проверочном наборе')\r\n",
        "plt.xlabel('Эпоха обучения')\r\n",
        "plt.ylabel('Доля верных ответов')\r\n",
        "plt.legend()\r\n",
        "plt.show()"
      ],
      "execution_count": null,
      "outputs": [
        {
          "output_type": "stream",
          "text": [
            "Epoch 1/45\n",
            "19/19 [==============================] - 0s 15ms/step - loss: 2.3029 - accuracy: 0.1616 - val_loss: 2.2929 - val_accuracy: 0.2174\n",
            "Epoch 2/45\n",
            "19/19 [==============================] - 0s 8ms/step - loss: 1.9875 - accuracy: 0.2949 - val_loss: 2.2893 - val_accuracy: 0.2043\n",
            "Epoch 3/45\n",
            "19/19 [==============================] - 0s 8ms/step - loss: 1.5844 - accuracy: 0.5427 - val_loss: 2.2714 - val_accuracy: 0.2043\n",
            "Epoch 4/45\n",
            "19/19 [==============================] - 0s 8ms/step - loss: 1.0294 - accuracy: 0.7862 - val_loss: 2.2549 - val_accuracy: 0.2000\n",
            "Epoch 5/45\n",
            "19/19 [==============================] - 0s 8ms/step - loss: 0.5643 - accuracy: 0.9279 - val_loss: 2.2302 - val_accuracy: 0.2304\n",
            "Epoch 6/45\n",
            "19/19 [==============================] - 0s 9ms/step - loss: 0.2960 - accuracy: 0.9727 - val_loss: 2.1970 - val_accuracy: 0.2478\n",
            "Epoch 7/45\n",
            "19/19 [==============================] - 0s 8ms/step - loss: 0.1651 - accuracy: 0.9851 - val_loss: 2.1831 - val_accuracy: 0.2870\n",
            "Epoch 8/45\n",
            "19/19 [==============================] - 0s 7ms/step - loss: 0.0886 - accuracy: 0.9950 - val_loss: 2.1059 - val_accuracy: 0.3130\n",
            "Epoch 9/45\n",
            "19/19 [==============================] - 0s 8ms/step - loss: 0.0517 - accuracy: 0.9967 - val_loss: 2.0765 - val_accuracy: 0.3043\n",
            "Epoch 10/45\n",
            "19/19 [==============================] - 0s 8ms/step - loss: 0.0371 - accuracy: 0.9959 - val_loss: 2.0756 - val_accuracy: 0.2957\n",
            "Epoch 11/45\n",
            "19/19 [==============================] - 0s 8ms/step - loss: 0.0327 - accuracy: 0.9942 - val_loss: 2.0213 - val_accuracy: 0.2391\n",
            "Epoch 12/45\n",
            "19/19 [==============================] - 0s 8ms/step - loss: 0.0200 - accuracy: 0.9983 - val_loss: 2.0202 - val_accuracy: 0.2391\n",
            "Epoch 13/45\n",
            "19/19 [==============================] - 0s 8ms/step - loss: 0.0203 - accuracy: 0.9983 - val_loss: 2.0260 - val_accuracy: 0.2783\n",
            "Epoch 14/45\n",
            "19/19 [==============================] - 0s 8ms/step - loss: 0.0138 - accuracy: 0.9992 - val_loss: 1.9932 - val_accuracy: 0.2565\n",
            "Epoch 15/45\n",
            "19/19 [==============================] - 0s 8ms/step - loss: 0.0116 - accuracy: 0.9975 - val_loss: 2.0236 - val_accuracy: 0.2565\n",
            "Epoch 16/45\n",
            "19/19 [==============================] - 0s 8ms/step - loss: 0.0115 - accuracy: 0.9967 - val_loss: 2.0219 - val_accuracy: 0.2739\n",
            "Epoch 17/45\n",
            "19/19 [==============================] - 0s 8ms/step - loss: 0.0144 - accuracy: 0.9959 - val_loss: 1.9939 - val_accuracy: 0.2609\n",
            "Epoch 18/45\n",
            "19/19 [==============================] - 0s 8ms/step - loss: 0.0095 - accuracy: 0.9992 - val_loss: 1.9951 - val_accuracy: 0.2435\n",
            "Epoch 19/45\n",
            "19/19 [==============================] - 0s 8ms/step - loss: 0.0093 - accuracy: 0.9967 - val_loss: 2.0790 - val_accuracy: 0.2261\n",
            "Epoch 20/45\n",
            "19/19 [==============================] - 0s 8ms/step - loss: 0.0126 - accuracy: 0.9975 - val_loss: 2.0442 - val_accuracy: 0.2174\n",
            "Epoch 21/45\n",
            "19/19 [==============================] - 0s 8ms/step - loss: 0.0063 - accuracy: 0.9992 - val_loss: 2.0448 - val_accuracy: 0.2261\n",
            "Epoch 22/45\n",
            "19/19 [==============================] - 0s 8ms/step - loss: 0.0065 - accuracy: 0.9983 - val_loss: 2.1219 - val_accuracy: 0.2217\n",
            "Epoch 23/45\n",
            "19/19 [==============================] - 0s 8ms/step - loss: 0.0035 - accuracy: 1.0000 - val_loss: 2.2935 - val_accuracy: 0.2348\n",
            "Epoch 24/45\n",
            "19/19 [==============================] - 0s 7ms/step - loss: 0.0046 - accuracy: 0.9983 - val_loss: 2.2894 - val_accuracy: 0.2000\n",
            "Epoch 25/45\n",
            "19/19 [==============================] - 0s 8ms/step - loss: 0.0094 - accuracy: 0.9967 - val_loss: 2.5332 - val_accuracy: 0.2174\n",
            "Epoch 26/45\n",
            "19/19 [==============================] - 0s 8ms/step - loss: 0.0076 - accuracy: 0.9975 - val_loss: 2.5671 - val_accuracy: 0.1913\n",
            "Epoch 27/45\n",
            "19/19 [==============================] - 0s 8ms/step - loss: 0.0079 - accuracy: 0.9967 - val_loss: 2.6641 - val_accuracy: 0.2043\n",
            "Epoch 28/45\n",
            "19/19 [==============================] - 0s 8ms/step - loss: 0.0085 - accuracy: 0.9983 - val_loss: 2.6595 - val_accuracy: 0.1913\n",
            "Epoch 29/45\n",
            "19/19 [==============================] - 0s 8ms/step - loss: 0.0039 - accuracy: 0.9992 - val_loss: 2.7806 - val_accuracy: 0.1957\n",
            "Epoch 30/45\n",
            "19/19 [==============================] - 0s 8ms/step - loss: 0.0046 - accuracy: 0.9992 - val_loss: 2.9770 - val_accuracy: 0.2174\n",
            "Epoch 31/45\n",
            "19/19 [==============================] - 0s 9ms/step - loss: 0.0035 - accuracy: 0.9992 - val_loss: 2.8515 - val_accuracy: 0.2130\n",
            "Epoch 32/45\n",
            "19/19 [==============================] - 0s 8ms/step - loss: 0.0048 - accuracy: 0.9983 - val_loss: 3.0059 - val_accuracy: 0.2304\n",
            "Epoch 33/45\n",
            "19/19 [==============================] - 0s 8ms/step - loss: 0.0052 - accuracy: 0.9983 - val_loss: 3.1044 - val_accuracy: 0.2261\n",
            "Epoch 34/45\n",
            "19/19 [==============================] - 0s 8ms/step - loss: 0.0059 - accuracy: 0.9983 - val_loss: 3.2238 - val_accuracy: 0.2304\n",
            "Epoch 35/45\n",
            "19/19 [==============================] - 0s 7ms/step - loss: 0.0043 - accuracy: 1.0000 - val_loss: 3.3755 - val_accuracy: 0.2043\n",
            "Epoch 36/45\n",
            "19/19 [==============================] - 0s 8ms/step - loss: 0.0082 - accuracy: 0.9975 - val_loss: 3.4362 - val_accuracy: 0.2087\n",
            "Epoch 37/45\n",
            "19/19 [==============================] - 0s 8ms/step - loss: 0.0023 - accuracy: 0.9992 - val_loss: 3.5515 - val_accuracy: 0.2087\n",
            "Epoch 38/45\n",
            "19/19 [==============================] - 0s 8ms/step - loss: 7.9127e-04 - accuracy: 1.0000 - val_loss: 3.6037 - val_accuracy: 0.2261\n",
            "Epoch 39/45\n",
            "19/19 [==============================] - 0s 8ms/step - loss: 0.0028 - accuracy: 0.9992 - val_loss: 3.7761 - val_accuracy: 0.2348\n",
            "Epoch 40/45\n",
            "19/19 [==============================] - 0s 8ms/step - loss: 0.0048 - accuracy: 0.9983 - val_loss: 4.0319 - val_accuracy: 0.2130\n",
            "Epoch 41/45\n",
            "19/19 [==============================] - 0s 9ms/step - loss: 0.0064 - accuracy: 0.9975 - val_loss: 4.0419 - val_accuracy: 0.2217\n",
            "Epoch 42/45\n",
            "19/19 [==============================] - 0s 7ms/step - loss: 0.0044 - accuracy: 0.9983 - val_loss: 4.2004 - val_accuracy: 0.2435\n",
            "Epoch 43/45\n",
            "19/19 [==============================] - 0s 8ms/step - loss: 0.0035 - accuracy: 0.9992 - val_loss: 4.1873 - val_accuracy: 0.2391\n",
            "Epoch 44/45\n",
            "19/19 [==============================] - 0s 8ms/step - loss: 0.0022 - accuracy: 1.0000 - val_loss: 4.4070 - val_accuracy: 0.2565\n",
            "Epoch 45/45\n",
            "19/19 [==============================] - 0s 8ms/step - loss: 0.0048 - accuracy: 0.9983 - val_loss: 4.5741 - val_accuracy: 0.2522\n"
          ],
          "name": "stdout"
        },
        {
          "output_type": "display_data",
          "data": {
            "image/png": "[encoded data removed]",
            "text/plain": [
              "<Figure size 432x288 with 1 Axes>"
            ]
          },
          "metadata": {
            "tags": [],
            "needs_background": "light"
          }
        }
      ]
    },
    {
      "cell_type": "code",
      "metadata": {
        "colab": {
          "base_uri": "https://localhost:8080/",
          "height": 1000
        },
        "id": "a_KHgpBoZIGU",
        "outputId": "e7d4f2c5-dd6d-4372-8371-d3fadea02362"
      },
      "source": [
        "# Embedding + Dense, LSTM и Conv1D, результат 34%\r\n",
        "modelE = Sequential() \r\n",
        "\r\n",
        "modelE.add(Embedding(maxWordsCount, 10, input_length=xLen))\r\n",
        "\r\n",
        "\r\n",
        "modelE.add(SpatialDropout1D(0.2))\r\n",
        "modelE.add(BatchNormalization()) \r\n",
        "modelE.add(LSTM(6, return_sequences=1))\r\n",
        "\r\n",
        "modelE.add(Conv1D(5, 1, activation=\"relu\")) \r\n",
        "modelE.add(MaxPooling1D(2)) \r\n",
        "modelE.add(Dropout(0.2)) \r\n",
        "\r\n",
        "modelE.add(Dense(250, activation='relu'))\r\n",
        "modelE.add(BatchNormalization()) \r\n",
        "modelE.add(Flatten()) \r\n",
        "\r\n",
        "modelE.add(Dense(10, activation='softmax')) \r\n",
        "\r\n",
        "modelE.compile(optimizer='rmsprop', \r\n",
        "              loss='categorical_crossentropy', \r\n",
        "              metrics=['accuracy'])\r\n",
        "\r\n",
        "history = modelE.fit(xTrain, \r\n",
        "                    yTrain, \r\n",
        "                    epochs=35,\r\n",
        "                    batch_size=64,\r\n",
        "                    validation_data=(xTest, yTest))\r\n",
        "\r\n",
        "plt.plot(history.history['accuracy'], \r\n",
        "         label='Доля верных ответов на обучающем наборе')\r\n",
        "plt.plot(history.history['val_accuracy'], \r\n",
        "         label='Доля верных ответов на проверочном наборе')\r\n",
        "plt.xlabel('Эпоха обучения')\r\n",
        "plt.ylabel('Доля верных ответов')\r\n",
        "plt.legend()\r\n",
        "plt.show()"
      ],
      "execution_count": null,
      "outputs": [
        {
          "output_type": "stream",
          "text": [
            "Epoch 1/35\n",
            "19/19 [==============================] - 1s 63ms/step - loss: 1.8700 - accuracy: 0.3463 - val_loss: 2.2617 - val_accuracy: 0.2130\n",
            "Epoch 2/35\n",
            "19/19 [==============================] - 1s 35ms/step - loss: 0.6729 - accuracy: 0.7606 - val_loss: 2.2660 - val_accuracy: 0.2130\n",
            "Epoch 3/35\n",
            "19/19 [==============================] - 1s 35ms/step - loss: 0.2700 - accuracy: 0.9105 - val_loss: 2.2784 - val_accuracy: 0.0783\n",
            "Epoch 4/35\n",
            "19/19 [==============================] - 1s 35ms/step - loss: 0.1685 - accuracy: 0.9412 - val_loss: 2.2740 - val_accuracy: 0.2130\n",
            "Epoch 5/35\n",
            "19/19 [==============================] - 1s 34ms/step - loss: 0.1313 - accuracy: 0.9660 - val_loss: 2.2632 - val_accuracy: 0.2130\n",
            "Epoch 6/35\n",
            "19/19 [==============================] - 1s 36ms/step - loss: 0.1194 - accuracy: 0.9660 - val_loss: 2.2739 - val_accuracy: 0.2478\n",
            "Epoch 7/35\n",
            "19/19 [==============================] - 1s 35ms/step - loss: 0.1113 - accuracy: 0.9594 - val_loss: 2.2549 - val_accuracy: 0.2130\n",
            "Epoch 8/35\n",
            "19/19 [==============================] - 1s 36ms/step - loss: 0.0806 - accuracy: 0.9685 - val_loss: 2.2695 - val_accuracy: 0.2130\n",
            "Epoch 9/35\n",
            "19/19 [==============================] - 1s 35ms/step - loss: 0.0722 - accuracy: 0.9743 - val_loss: 2.2931 - val_accuracy: 0.2130\n",
            "Epoch 10/35\n",
            "19/19 [==============================] - 1s 35ms/step - loss: 0.0683 - accuracy: 0.9801 - val_loss: 2.3034 - val_accuracy: 0.2130\n",
            "Epoch 11/35\n",
            "19/19 [==============================] - 1s 36ms/step - loss: 0.0734 - accuracy: 0.9785 - val_loss: 2.3435 - val_accuracy: 0.2130\n",
            "Epoch 12/35\n",
            "19/19 [==============================] - 1s 34ms/step - loss: 0.0580 - accuracy: 0.9834 - val_loss: 2.3035 - val_accuracy: 0.2130\n",
            "Epoch 13/35\n",
            "19/19 [==============================] - 1s 35ms/step - loss: 0.0831 - accuracy: 0.9710 - val_loss: 2.3619 - val_accuracy: 0.2174\n",
            "Epoch 14/35\n",
            "19/19 [==============================] - 1s 36ms/step - loss: 0.0640 - accuracy: 0.9760 - val_loss: 2.3499 - val_accuracy: 0.2304\n",
            "Epoch 15/35\n",
            "19/19 [==============================] - 1s 34ms/step - loss: 0.0755 - accuracy: 0.9743 - val_loss: 2.3794 - val_accuracy: 0.2130\n",
            "Epoch 16/35\n",
            "19/19 [==============================] - 1s 35ms/step - loss: 0.0579 - accuracy: 0.9809 - val_loss: 2.3767 - val_accuracy: 0.2043\n",
            "Epoch 17/35\n",
            "19/19 [==============================] - 1s 36ms/step - loss: 0.0648 - accuracy: 0.9826 - val_loss: 2.5837 - val_accuracy: 0.1304\n",
            "Epoch 18/35\n",
            "19/19 [==============================] - 1s 35ms/step - loss: 0.0418 - accuracy: 0.9818 - val_loss: 2.3683 - val_accuracy: 0.2348\n",
            "Epoch 19/35\n",
            "19/19 [==============================] - 1s 34ms/step - loss: 0.0597 - accuracy: 0.9809 - val_loss: 2.5842 - val_accuracy: 0.2130\n",
            "Epoch 20/35\n",
            "19/19 [==============================] - 1s 35ms/step - loss: 0.0606 - accuracy: 0.9851 - val_loss: 2.5216 - val_accuracy: 0.2043\n",
            "Epoch 21/35\n",
            "19/19 [==============================] - 1s 35ms/step - loss: 0.0343 - accuracy: 0.9909 - val_loss: 2.6489 - val_accuracy: 0.2348\n",
            "Epoch 22/35\n",
            "19/19 [==============================] - 1s 35ms/step - loss: 0.0600 - accuracy: 0.9834 - val_loss: 3.0735 - val_accuracy: 0.2087\n",
            "Epoch 23/35\n",
            "19/19 [==============================] - 1s 36ms/step - loss: 0.0299 - accuracy: 0.9909 - val_loss: 2.6140 - val_accuracy: 0.2217\n",
            "Epoch 24/35\n",
            "19/19 [==============================] - 1s 36ms/step - loss: 0.0526 - accuracy: 0.9884 - val_loss: 2.5073 - val_accuracy: 0.2652\n",
            "Epoch 25/35\n",
            "19/19 [==============================] - 1s 36ms/step - loss: 0.0498 - accuracy: 0.9917 - val_loss: 2.5739 - val_accuracy: 0.2957\n",
            "Epoch 26/35\n",
            "19/19 [==============================] - 1s 35ms/step - loss: 0.0569 - accuracy: 0.9826 - val_loss: 2.5610 - val_accuracy: 0.3522\n",
            "Epoch 27/35\n",
            "19/19 [==============================] - 1s 36ms/step - loss: 0.0344 - accuracy: 0.9876 - val_loss: 3.0448 - val_accuracy: 0.3087\n",
            "Epoch 28/35\n",
            "19/19 [==============================] - 1s 35ms/step - loss: 0.0538 - accuracy: 0.9776 - val_loss: 3.0865 - val_accuracy: 0.2913\n",
            "Epoch 29/35\n",
            "19/19 [==============================] - 1s 35ms/step - loss: 0.0568 - accuracy: 0.9826 - val_loss: 3.2931 - val_accuracy: 0.2913\n",
            "Epoch 30/35\n",
            "19/19 [==============================] - 1s 37ms/step - loss: 0.0364 - accuracy: 0.9867 - val_loss: 3.4059 - val_accuracy: 0.3217\n",
            "Epoch 31/35\n",
            "19/19 [==============================] - 1s 35ms/step - loss: 0.0412 - accuracy: 0.9884 - val_loss: 3.6888 - val_accuracy: 0.2696\n",
            "Epoch 32/35\n",
            "19/19 [==============================] - 1s 37ms/step - loss: 0.0476 - accuracy: 0.9843 - val_loss: 3.6291 - val_accuracy: 0.2826\n",
            "Epoch 33/35\n",
            "19/19 [==============================] - 1s 36ms/step - loss: 0.0384 - accuracy: 0.9892 - val_loss: 4.3308 - val_accuracy: 0.2435\n",
            "Epoch 34/35\n",
            "19/19 [==============================] - 1s 38ms/step - loss: 0.0319 - accuracy: 0.9925 - val_loss: 4.5149 - val_accuracy: 0.2609\n",
            "Epoch 35/35\n",
            "19/19 [==============================] - 1s 36ms/step - loss: 0.0484 - accuracy: 0.9826 - val_loss: 3.8938 - val_accuracy: 0.3478\n"
          ],
          "name": "stdout"
        },
        {
          "output_type": "display_data",
          "data": {
            "image/png": "[encoded data removed]",
            "text/plain": [
              "<Figure size 432x288 with 1 Axes>"
            ]
          },
          "metadata": {
            "tags": [],
            "needs_background": "light"
          }
        }
      ]
    },
    {
      "cell_type": "code",
      "metadata": {
        "colab": {
          "base_uri": "https://localhost:8080/"
        },
        "id": "eGvz-Xvlgwhe",
        "outputId": "2291db7d-ec94-48fc-e537-2bb1e3d27190"
      },
      "source": [
        "modelE.summary()"
      ],
      "execution_count": null,
      "outputs": [
        {
          "output_type": "stream",
          "text": [
            "Model: \"sequential_69\"\n",
            "_________________________________________________________________\n",
            "Layer (type)                 Output Shape              Param #   \n",
            "=================================================================\n",
            "embedding_69 (Embedding)     (None, 50, 10)            200000    \n",
            "_________________________________________________________________\n",
            "spatial_dropout1d_68 (Spatia (None, 50, 10)            0         \n",
            "_________________________________________________________________\n",
            "batch_normalization_105 (Bat (None, 50, 10)            40        \n",
            "_________________________________________________________________\n",
            "lstm_40 (LSTM)               (None, 50, 5)             320       \n",
            "_________________________________________________________________\n",
            "conv1d_57 (Conv1D)           (None, 50, 5)             30        \n",
            "_________________________________________________________________\n",
            "max_pooling1d_33 (MaxPooling (None, 25, 5)             0         \n",
            "_________________________________________________________________\n",
            "dropout_66 (Dropout)         (None, 25, 5)             0         \n",
            "_________________________________________________________________\n",
            "dense_107 (Dense)            (None, 25, 250)           1500      \n",
            "_________________________________________________________________\n",
            "batch_normalization_106 (Bat (None, 25, 250)           1000      \n",
            "_________________________________________________________________\n",
            "flatten_68 (Flatten)         (None, 6250)              0         \n",
            "_________________________________________________________________\n",
            "dense_108 (Dense)            (None, 10)                62510     \n",
            "=================================================================\n",
            "Total params: 265,400\n",
            "Trainable params: 264,880\n",
            "Non-trainable params: 520\n",
            "_________________________________________________________________\n"
          ],
          "name": "stdout"
        }
      ]
    }
  ]
}
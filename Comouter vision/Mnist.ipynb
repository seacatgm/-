{
  "nbformat": 4,
  "nbformat_minor": 0,
  "metadata": {
    "colab": {
      "name": "Mnist",
      "provenance": [],
      "authorship_tag": "ABX9TyM5/6RRQ6hoYqSTgAwABTpK",
      "include_colab_link": true
    },
    "kernelspec": {
      "name": "python3",
      "display_name": "Python 3"
    }
  },
  "cells": [
    {
      "cell_type": "markdown",
      "metadata": {
        "id": "view-in-github",
        "colab_type": "text"
      },
      "source": [
        "<a href=\"https://colab.research.google.com/github/seacatgm/-/blob/main/Comouter%20vision/Mnist.ipynb\" target=\"_parent\"><img src=\"https://colab.research.google.com/assets/colab-badge.svg\" alt=\"Open In Colab\"/></a>"
      ]
    },
    {
      "cell_type": "code",
      "metadata": {
        "id": "q8xd7bOdf0yD"
      },
      "source": [
        "from tensorflow.keras.datasets import mnist \n",
        "from tensorflow.keras import utils \n",
        "from tensorflow.keras.preprocessing import image \n",
        "from google.colab import files \n",
        "import matplotlib.pyplot as plt\n",
        "from PIL import Image \n",
        "from tensorflow.keras.models import Sequential \n",
        "from tensorflow.keras.layers import Dense \n",
        "import numpy as np\n",
        "import pandas as pd"
      ],
      "execution_count": null,
      "outputs": []
    },
    {
      "cell_type": "code",
      "metadata": {
        "id": "qbm0ai0QzlKH"
      },
      "source": [
        "(x_train_org, y_train_org), (x_test_org, y_test_org) = mnist.load_data() # Загрузка датасета mnist"
      ],
      "execution_count": null,
      "outputs": []
    },
    {
      "cell_type": "code",
      "metadata": {
        "id": "VdG6K3AjznmJ",
        "colab": {
          "base_uri": "https://localhost:8080/"
        },
        "outputId": "8d210ad7-0558-40ca-afbb-78dcb9f1123e"
      },
      "source": [
        "x_train_org[0].shape # размер изображений"
      ],
      "execution_count": null,
      "outputs": [
        {
          "output_type": "execute_result",
          "data": {
            "text/plain": [
              "(28, 28)"
            ]
          },
          "metadata": {
            "tags": []
          },
          "execution_count": 41
        }
      ]
    },
    {
      "cell_type": "code",
      "metadata": {
        "id": "xpvPdjhezpPx",
        "colab": {
          "base_uri": "https://localhost:8080/",
          "height": 265
        },
        "outputId": "54580576-10d8-4c91-9d80-c0e4d737674c"
      },
      "source": [
        "n = 30 # посмотрим на цифру под номером 30\n",
        "plt.imshow(Image.fromarray(x_train_org[n]).convert('RGB')) \n",
        "plt.show() "
      ],
      "execution_count": null,
      "outputs": [
        {
          "output_type": "display_data",
          "data": {
            "image/png": "[encoded data removed]",
            "text/plain": [
              "<Figure size 432x288 with 1 Axes>"
            ]
          },
          "metadata": {
            "tags": [],
            "needs_background": "light"
          }
        }
      ]
    },
    {
      "cell_type": "code",
      "metadata": {
        "id": "ldqf-DMlzqyf",
        "colab": {
          "base_uri": "https://localhost:8080/"
        },
        "outputId": "e68b30fa-facf-45a9-9b76-2f4aa23aab7c"
      },
      "source": [
        "y_train_org[n] # посмотрим значение y по этой картинке"
      ],
      "execution_count": null,
      "outputs": [
        {
          "output_type": "execute_result",
          "data": {
            "text/plain": [
              "3"
            ]
          },
          "metadata": {
            "tags": []
          },
          "execution_count": 43
        }
      ]
    },
    {
      "cell_type": "code",
      "metadata": {
        "id": "j91WFfapzsWi",
        "colab": {
          "base_uri": "https://localhost:8080/"
        },
        "outputId": "5491eb0e-b012-4146-cee5-7c56a369c041"
      },
      "source": [
        "x_train = x_train_org.reshape(60000, 784) # переводим изображение обучающей выборки в вектор\n",
        "x_test = x_test_org.reshape(10000, 784) # переводим изображение тестовой выборки вектор\n",
        "print(x_train_org.shape) # размер массива до reshape\n",
        "print(x_train.shape) # размер массива после reshape"
      ],
      "execution_count": null,
      "outputs": [
        {
          "output_type": "stream",
          "text": [
            "(60000, 28, 28)\n",
            "(60000, 784)\n"
          ],
          "name": "stdout"
        }
      ]
    },
    {
      "cell_type": "code",
      "metadata": {
        "id": "_N8NZwXAztsR"
      },
      "source": [
        "x_train = x_train.astype('float32') # для нормализации переводим значения в тип float\n",
        "x_train = x_train / 255 # нормализуем значения от 0 до 1\n",
        "x_test = x_test.astype('float32') # для нормализации переводим значения в тип float\n",
        "x_test = x_test / 255 # нормализуем значения от 0 до 1"
      ],
      "execution_count": null,
      "outputs": []
    },
    {
      "cell_type": "code",
      "metadata": {
        "id": "CwDJnV_Fzu8v"
      },
      "source": [
        "y_train = utils.to_categorical(y_train_org, 10) # переводим y в бинарный вектор, one_hot_encoding\n",
        "y_test = utils.to_categorical(y_test_org, 10)"
      ],
      "execution_count": null,
      "outputs": []
    },
    {
      "cell_type": "code",
      "metadata": {
        "id": "niS-9Wpwz2rQ"
      },
      "source": [
        "model = Sequential() # Создаём сеть прямого распространения\n",
        "model.add(Dense(800, input_dim=784, activation=\"relu\")) # Добавляем полносвязный слой на 800 нейронов с relu-активацией\n",
        "model.add(Dense(10, activation=\"relu\"))  # Добавляем полносвязный слой на 400 нейронов с relu-активацией\n",
        "model.add(Dense(10, activation=\"softmax\")) # Добавляем полносвязный слой на 10 нейронов с softmax-активацией"
      ],
      "execution_count": null,
      "outputs": []
    },
    {
      "cell_type": "code",
      "metadata": {
        "id": "InWKDIIXz4GF",
        "colab": {
          "base_uri": "https://localhost:8080/"
        },
        "outputId": "a65c0b63-85d6-44c6-9648-3a57c7308fd8"
      },
      "source": [
        "model.compile(loss=\"categorical_crossentropy\", optimizer=\"adam\", metrics=[\"accuracy\"]) # Компилируем модель\n",
        "print(model.summary()) # Вывод структуры модели"
      ],
      "execution_count": null,
      "outputs": [
        {
          "output_type": "stream",
          "text": [
            "Model: \"sequential_1\"\n",
            "_________________________________________________________________\n",
            "Layer (type)                 Output Shape              Param #   \n",
            "=================================================================\n",
            "dense_3 (Dense)              (None, 800)               628000    \n",
            "_________________________________________________________________\n",
            "dense_4 (Dense)              (None, 10)                8010      \n",
            "_________________________________________________________________\n",
            "dense_5 (Dense)              (None, 10)                110       \n",
            "=================================================================\n",
            "Total params: 636,120\n",
            "Trainable params: 636,120\n",
            "Non-trainable params: 0\n",
            "_________________________________________________________________\n",
            "None\n"
          ],
          "name": "stdout"
        }
      ]
    },
    {
      "cell_type": "code",
      "metadata": {
        "id": "cneoebmMz6KX",
        "colab": {
          "base_uri": "https://localhost:8080/"
        },
        "outputId": "c22e7a18-ecb1-46b8-fac4-878bef1182a9"
      },
      "source": [
        "model.fit(x_train, y_train, batch_size=128, epochs=15, verbose=1) # обучаем модель"
      ],
      "execution_count": null,
      "outputs": [
        {
          "output_type": "stream",
          "text": [
            "Epoch 1/15\n",
            "469/469 [==============================] - 5s 11ms/step - loss: 0.3234 - accuracy: 0.9094\n",
            "Epoch 2/15\n",
            "469/469 [==============================] - 5s 11ms/step - loss: 0.1150 - accuracy: 0.9671\n",
            "Epoch 3/15\n",
            "469/469 [==============================] - 5s 11ms/step - loss: 0.0764 - accuracy: 0.9773\n",
            "Epoch 4/15\n",
            "469/469 [==============================] - 5s 11ms/step - loss: 0.0526 - accuracy: 0.9842\n",
            "Epoch 5/15\n",
            "469/469 [==============================] - 5s 11ms/step - loss: 0.0364 - accuracy: 0.9894\n",
            "Epoch 6/15\n",
            "469/469 [==============================] - 5s 11ms/step - loss: 0.0279 - accuracy: 0.9914\n",
            "Epoch 7/15\n",
            "469/469 [==============================] - 5s 11ms/step - loss: 0.0210 - accuracy: 0.9936\n",
            "Epoch 8/15\n",
            "469/469 [==============================] - 5s 11ms/step - loss: 0.0157 - accuracy: 0.9955\n",
            "Epoch 9/15\n",
            "469/469 [==============================] - 5s 11ms/step - loss: 0.0158 - accuracy: 0.9952\n",
            "Epoch 10/15\n",
            "469/469 [==============================] - 5s 11ms/step - loss: 0.0122 - accuracy: 0.9963\n",
            "Epoch 11/15\n",
            "469/469 [==============================] - 5s 11ms/step - loss: 0.0095 - accuracy: 0.9971\n",
            "Epoch 12/15\n",
            "469/469 [==============================] - 5s 11ms/step - loss: 0.0097 - accuracy: 0.9972\n",
            "Epoch 13/15\n",
            "469/469 [==============================] - 5s 11ms/step - loss: 0.0074 - accuracy: 0.9978\n",
            "Epoch 14/15\n",
            "469/469 [==============================] - 5s 11ms/step - loss: 0.0093 - accuracy: 0.9970\n",
            "Epoch 15/15\n",
            "469/469 [==============================] - 5s 11ms/step - loss: 0.0091 - accuracy: 0.9973\n"
          ],
          "name": "stdout"
        },
        {
          "output_type": "execute_result",
          "data": {
            "text/plain": [
              "<tensorflow.python.keras.callbacks.History at 0x7f3d3c06ef60>"
            ]
          },
          "metadata": {
            "tags": []
          },
          "execution_count": 52
        }
      ]
    },
    {
      "cell_type": "code",
      "metadata": {
        "id": "_rn85FEDGQFN"
      },
      "source": [
        "# создадим словарь для проведенных экспериментов и запишем результаты\n",
        "d = {\"10 нейронов\":pd.Series([0.9987, 0.0050], index=['accuracy', 'loss']),\\\n",
        "     \"100 нейронов\": pd.Series([0.9965, 0.0106], index=['accuracy', 'loss']),\\\n",
        "     \"5000 нейронов\": pd.Series([0.9963, 0.0126], index=['accuracy', 'loss']),\\\n",
        "     \"linear\": pd.Series([0.9276, 0.2588], index=['accuracy', 'loss']),\\\n",
        "     \"batch_size 1\": pd.Series([0.9855, 0.0837], index=['accuracy', 'loss']),\\\n",
        "     \"batch_size 10\": pd.Series([0.9963, 0.0117], index=['accuracy', 'loss']),\\\n",
        "     \"batch_size 100\": pd.Series([0.9988, 0.0036], index=['accuracy', 'loss']),\\\n",
        "     \"batch_size 60000\": pd.Series([0.9989, 0.0028], index=['accuracy', 'loss'])}\n",
        "df = pd.DataFrame(d) # создаем dataframe "
      ],
      "execution_count": null,
      "outputs": []
    },
    {
      "cell_type": "code",
      "metadata": {
        "id": "vQhDkcZcMRyB",
        "colab": {
          "base_uri": "https://localhost:8080/",
          "height": 111
        },
        "outputId": "4ee0acb7-2453-409e-9de2-76e6323ce1bb"
      },
      "source": [
        "df.head() # выводим значение dataframe"
      ],
      "execution_count": null,
      "outputs": [
        {
          "output_type": "execute_result",
          "data": {
            "text/html": [
              "<div>\n",
              "<style scoped>\n",
              "    .dataframe tbody tr th:only-of-type {\n",
              "        vertical-align: middle;\n",
              "    }\n",
              "\n",
              "    .dataframe tbody tr th {\n",
              "        vertical-align: top;\n",
              "    }\n",
              "\n",
              "    .dataframe thead th {\n",
              "        text-align: right;\n",
              "    }\n",
              "</style>\n",
              "<table border=\"1\" class=\"dataframe\">\n",
              "  <thead>\n",
              "    <tr style=\"text-align: right;\">\n",
              "      <th></th>\n",
              "      <th>10 нейронов</th>\n",
              "      <th>100 нейронов</th>\n",
              "      <th>5000 нейронов</th>\n",
              "      <th>linear</th>\n",
              "      <th>batch_size 1</th>\n",
              "      <th>batch_size 10</th>\n",
              "      <th>batch_size 100</th>\n",
              "      <th>batch_size 60000</th>\n",
              "    </tr>\n",
              "  </thead>\n",
              "  <tbody>\n",
              "    <tr>\n",
              "      <th>accuracy</th>\n",
              "      <td>0.9987</td>\n",
              "      <td>0.9965</td>\n",
              "      <td>0.9963</td>\n",
              "      <td>0.9276</td>\n",
              "      <td>0.9855</td>\n",
              "      <td>0.9963</td>\n",
              "      <td>0.9988</td>\n",
              "      <td>0.9989</td>\n",
              "    </tr>\n",
              "    <tr>\n",
              "      <th>loss</th>\n",
              "      <td>0.0050</td>\n",
              "      <td>0.0106</td>\n",
              "      <td>0.0126</td>\n",
              "      <td>0.2588</td>\n",
              "      <td>0.0837</td>\n",
              "      <td>0.0117</td>\n",
              "      <td>0.0036</td>\n",
              "      <td>0.0028</td>\n",
              "    </tr>\n",
              "  </tbody>\n",
              "</table>\n",
              "</div>"
            ],
            "text/plain": [
              "          10 нейронов  100 нейронов  ...  batch_size 100  batch_size 60000\n",
              "accuracy       0.9987        0.9965  ...          0.9988            0.9989\n",
              "loss           0.0050        0.0106  ...          0.0036            0.0028\n",
              "\n",
              "[2 rows x 8 columns]"
            ]
          },
          "metadata": {
            "tags": []
          },
          "execution_count": 56
        }
      ]
    },
    {
      "cell_type": "markdown",
      "metadata": {
        "id": "1UfKZ0NWbFGC"
      },
      "source": [
        "Вывод:\r\n",
        "наилучшее количество нейронов 10,\r\n",
        "наилучшая функция активации relu,\r\n",
        "наилучший результат с batch_size 60000, но в то же время самый долгий"
      ]
    },
    {
      "cell_type": "code",
      "metadata": {
        "id": "k0vPHNFxp-K4",
        "colab": {
          "base_uri": "https://localhost:8080/"
        },
        "outputId": "22824717-67fe-41f1-8039-ca3eda52ed6f"
      },
      "source": [
        "from google.colab import drive\n",
        "drive.mount('/content/drive')"
      ],
      "execution_count": null,
      "outputs": [
        {
          "output_type": "stream",
          "text": [
            "Drive already mounted at /content/drive; to attempt to forcibly remount, call drive.mount(\"/content/drive\", force_remount=True).\n"
          ],
          "name": "stdout"
        }
      ]
    },
    {
      "cell_type": "markdown",
      "metadata": {
        "id": "5YO6OfJ3g7l8"
      },
      "source": [
        "Проведем пару тестов:\r\n",
        "\r\n",
        "*   нарисуем цифру в paint и попробуем распознать\r\n",
        "*   нарисуем цифру на листе и попробуем распознать\r\n",
        "\r\n"
      ]
    },
    {
      "cell_type": "code",
      "metadata": {
        "id": "mScjtc6Oo6ma"
      },
      "source": [
        "number_5 = image.load_img('/content/drive/My Drive/5.jpg', target_size=(28, 28), color_mode = 'grayscale') # загружаем цифру нарисованную в paint"
      ],
      "execution_count": null,
      "outputs": []
    },
    {
      "cell_type": "code",
      "metadata": {
        "id": "rDg1opNkqG_V",
        "colab": {
          "base_uri": "https://localhost:8080/",
          "height": 282
        },
        "outputId": "231189cd-5b4f-4521-a79c-ee695ea9876e"
      },
      "source": [
        "plt.imshow(number_5.convert('RGBA'))  # отобразим"
      ],
      "execution_count": null,
      "outputs": [
        {
          "output_type": "execute_result",
          "data": {
            "text/plain": [
              "<matplotlib.image.AxesImage at 0x7f3d3b717b38>"
            ]
          },
          "metadata": {
            "tags": []
          },
          "execution_count": 60
        },
        {
          "output_type": "display_data",
          "data": {
            "image/png": "[encoded data removed]",
            "text/plain": [
              "<Figure size 432x288 with 1 Axes>"
            ]
          },
          "metadata": {
            "tags": [],
            "needs_background": "light"
          }
        }
      ]
    },
    {
      "cell_type": "code",
      "metadata": {
        "id": "11t-O1C0sHYB"
      },
      "source": [
        "number_np = image.img_to_array(number_5) # переводим изображение в numpy массив"
      ],
      "execution_count": null,
      "outputs": []
    },
    {
      "cell_type": "code",
      "metadata": {
        "id": "WQvWDZsetNhs"
      },
      "source": [
        "number_np = number_np.astype('float32') # переводим в формат float для нормализации\n",
        "number_np = number_np / 255  # нормализуем значения"
      ],
      "execution_count": null,
      "outputs": []
    },
    {
      "cell_type": "code",
      "metadata": {
        "id": "INOvlIVrtVPW"
      },
      "source": [
        "number_np = number_np.reshape(1,784) # меняем форму, переводим в вектор"
      ],
      "execution_count": null,
      "outputs": []
    },
    {
      "cell_type": "code",
      "metadata": {
        "id": "wwiVVpFPuA7N",
        "colab": {
          "base_uri": "https://localhost:8080/"
        },
        "outputId": "1525e4b8-9380-46b6-b24d-93ff43d835b4"
      },
      "source": [
        "number_np.shape # смотри размер"
      ],
      "execution_count": null,
      "outputs": [
        {
          "output_type": "execute_result",
          "data": {
            "text/plain": [
              "(1, 784)"
            ]
          },
          "metadata": {
            "tags": []
          },
          "execution_count": 65
        }
      ]
    },
    {
      "cell_type": "code",
      "metadata": {
        "id": "Cne394nFuMtK"
      },
      "source": [
        "prediction = model.predict(number_np) # распознаем наш пример"
      ],
      "execution_count": null,
      "outputs": []
    },
    {
      "cell_type": "code",
      "metadata": {
        "id": "phfR6qPruTIv",
        "colab": {
          "base_uri": "https://localhost:8080/"
        },
        "outputId": "d2c57bb8-8e54-4de6-ce0c-e939cda785ff"
      },
      "source": [
        "prediction = np.argmax(prediction)  # Получаем индекс самого большого элемента (это итоговая цифра, которую распознала сеть)\n",
        "print(prediction) # выводим ее на экран"
      ],
      "execution_count": null,
      "outputs": [
        {
          "output_type": "stream",
          "text": [
            "5\n"
          ],
          "name": "stdout"
        }
      ]
    },
    {
      "cell_type": "code",
      "metadata": {
        "id": "qxJApQ40WG7N"
      },
      "source": [
        "number_55 = image.load_img('/content/drive/My Drive/55.JPG', target_size=(28, 28), color_mode = 'grayscale') # загружаем цифру нарисованную от руки\r\n",
        "#используем grayscale, чтобы избавиться от оттенков других цветов, база обучалась на цифрах которые нарисованы белым на черном,\r\n",
        "# мы пробуем распознать цифру которая нарисована черным на белом, для эксперимента не будем инвертировать цвета"
      ],
      "execution_count": null,
      "outputs": []
    },
    {
      "cell_type": "code",
      "metadata": {
        "id": "RzJqklmpWOUw",
        "colab": {
          "base_uri": "https://localhost:8080/",
          "height": 282
        },
        "outputId": "9e7de6e4-44d7-4435-e13d-d0f5173793ee"
      },
      "source": [
        "plt.imshow(number_55.convert('RGBA')) # отображаем цифру"
      ],
      "execution_count": null,
      "outputs": [
        {
          "output_type": "execute_result",
          "data": {
            "text/plain": [
              "<matplotlib.image.AxesImage at 0x7f3d3aea9f98>"
            ]
          },
          "metadata": {
            "tags": []
          },
          "execution_count": 69
        },
        {
          "output_type": "display_data",
          "data": {
            "image/png": "[encoded data removed]",
            "text/plain": [
              "<Figure size 432x288 with 1 Axes>"
            ]
          },
          "metadata": {
            "tags": [],
            "needs_background": "light"
          }
        }
      ]
    },
    {
      "cell_type": "code",
      "metadata": {
        "id": "ongOMkr0Wo0a"
      },
      "source": [
        "number_np_5 = image.img_to_array(number_55) # переводим изображение в numpy массив"
      ],
      "execution_count": null,
      "outputs": []
    },
    {
      "cell_type": "code",
      "metadata": {
        "id": "N0lHt9ExWtKK"
      },
      "source": [
        "number_np_5 = number_np.astype('float32') # переводим в формат float для нормализации\n",
        "number_np_5 = number_np / 255 # нормализуем значения"
      ],
      "execution_count": null,
      "outputs": []
    },
    {
      "cell_type": "code",
      "metadata": {
        "id": "QoC9BIOpWu5y"
      },
      "source": [
        "number_np_5 = number_np.reshape(1,784)# меняем форму, переводим в вектор"
      ],
      "execution_count": null,
      "outputs": []
    },
    {
      "cell_type": "code",
      "metadata": {
        "id": "_iCL1newWwyi"
      },
      "source": [
        "prediction = model.predict(number_np_5)# распознаем наш пример"
      ],
      "execution_count": null,
      "outputs": []
    },
    {
      "cell_type": "code",
      "metadata": {
        "id": "B90N63kRWyFn",
        "colab": {
          "base_uri": "https://localhost:8080/"
        },
        "outputId": "34fa4ac0-27ed-4629-8a82-d00671ec70f2"
      },
      "source": [
        "prediction = np.argmax(prediction) # Получаем индекс самого большого элемента (это итоговая цифра, которую распознала сеть)\n",
        "print(prediction) # выводим на экран"
      ],
      "execution_count": null,
      "outputs": [
        {
          "output_type": "stream",
          "text": [
            "5\n"
          ],
          "name": "stdout"
        }
      ]
    },
    {
      "cell_type": "markdown",
      "metadata": {
        "id": "yqtMjloriwDC"
      },
      "source": [
        ""
      ]
    }
  ]
}
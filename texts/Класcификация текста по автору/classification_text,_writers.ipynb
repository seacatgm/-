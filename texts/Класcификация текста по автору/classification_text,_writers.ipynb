{
  "nbformat": 4,
  "nbformat_minor": 0,
  "metadata": {
    "colab": {
      "name": "classification text, writers",
      "provenance": [],
      "mount_file_id": "1uZRrxHN__HRk17b20xUU1GTMoE1nVPlY",
      "authorship_tag": "ABX9TyOyUDkCWYMmqGIN7WZ1LhN7",
      "include_colab_link": true
    },
    "kernelspec": {
      "name": "python3",
      "display_name": "Python 3"
    }
  },
  "cells": [
    {
      "cell_type": "markdown",
      "metadata": {
        "id": "view-in-github",
        "colab_type": "text"
      },
      "source": [
        "<a href=\"https://colab.research.google.com/github/seacatgm/-/blob/main/texts/%D0%9A%D0%BB%D0%B0%D1%81c%D0%B8%D1%84%D0%B8%D0%BA%D0%B0%D1%86%D0%B8%D1%8F%20%D1%82%D0%B5%D0%BA%D1%81%D1%82%D0%B0%20%D0%BF%D0%BE%20%D0%B0%D0%B2%D1%82%D0%BE%D1%80%D1%83/classification_text%2C_writers.ipynb\" target=\"_parent\"><img src=\"https://colab.research.google.com/assets/colab-badge.svg\" alt=\"Open In Colab\"/></a>"
      ]
    },
    {
      "cell_type": "code",
      "metadata": {
        "id": "M2ao5jlwETfG"
      },
      "source": [
        "from google.colab import files\n",
        "import numpy as np\n",
        "import pandas as pd\n",
        "import matplotlib.pyplot as plt\n",
        "import os\n",
        "%matplotlib inline\n",
        "\n",
        "from tensorflow.keras import utils\n",
        "from tensorflow.keras.models import Sequential\n",
        "from tensorflow.keras.layers import Dense, Dropout, SpatialDropout1D, BatchNormalization, Embedding, Flatten, Activation\n",
        "from tensorflow.keras.preprocessing.text import Tokenizer\n",
        "from tensorflow.keras.preprocessing.sequence import pad_sequences\n",
        "from tensorflow.keras.optimizers import Adam, Adadelta\n",
        "\n",
        "from sklearn.preprocessing import LabelEncoder\n",
        "from sklearn.model_selection import train_test_split\n",
        "from google.colab import drive\n",
        "import time\n"
      ],
      "execution_count": null,
      "outputs": []
    },
    {
      "cell_type": "code",
      "metadata": {
        "colab": {
          "base_uri": "https://localhost:8080/"
        },
        "id": "jv9tNWQ7FnQS",
        "outputId": "2cb4d702-3049-4724-f54e-896f5b4e7b99"
      },
      "source": [
        "drive.mount('/content/drive')"
      ],
      "execution_count": null,
      "outputs": [
        {
          "output_type": "stream",
          "text": [
            "Mounted at /content/drive\n"
          ],
          "name": "stdout"
        }
      ]
    },
    {
      "cell_type": "code",
      "metadata": {
        "id": "TcujYeIjzSVl",
        "colab": {
          "base_uri": "https://localhost:8080/"
        },
        "outputId": "51ed1d9d-3269-4814-a319-96957445e58b"
      },
      "source": [
        "!rm -R '/content/texts' # проверяем есть ли папка texts, если есть удаляем"
      ],
      "execution_count": null,
      "outputs": [
        {
          "output_type": "stream",
          "text": [
            "rm: cannot remove '/content/texts': No such file or directory\n"
          ],
          "name": "stdout"
        }
      ]
    },
    {
      "cell_type": "code",
      "metadata": {
        "id": "dBoKRgqWG3-T"
      },
      "source": [
        "!unzip -q '/content/drive/My Drive/neuro/base/Тексты писателей.zip' -d '/content/texts'  # загружаем тексты писателей в папку texts"
      ],
      "execution_count": null,
      "outputs": []
    },
    {
      "cell_type": "code",
      "metadata": {
        "id": "voKn9iKVHhhh"
      },
      "source": [
        "def readText(fileName): # Объявляем функции для чтения файла. На вход отправляем путь к файлу\n",
        "  f = open(fileName, 'r') # Задаем открытие нужного файла в режиме чтения\n",
        "  text = f.read() # Читаем файл\n",
        "  text = text.replace('\\n', ' ') # Переносы строки заменяем пробелами\n",
        "  return text\n",
        "\n",
        "className = [\"О. Генри\", \"Стругацкие\", \"Булгаков\", \"Саймак\", \"Фрай\", \"Брэдберри\"] # Задаем названия классов, авторы\n",
        "nClasses = len(className) # Считаем количество классов"
      ],
      "execution_count": null,
      "outputs": []
    },
    {
      "cell_type": "code",
      "metadata": {
        "colab": {
          "base_uri": "https://localhost:8080/"
        },
        "id": "GvnWURpFIAig",
        "outputId": "b92f3471-c471-4b58-cd77-0f90933a6fd7"
      },
      "source": [
        "#Загружаем обучающие тексты\n",
        "trainText = [] # Здесь будут обучающие тексты\n",
        "testText = [] # Здесь будут проверочные тексты\n",
        "\n",
        "for i in className: # Проходим по каждому классу\n",
        "  for j in os.listdir('texts/'): # Проходим по каждому файлу в папке с текстами\n",
        "    if i in j: # Проверяем, содержит ли файл j в названии имя класса i\n",
        "      if 'Обучающая' in j: # Если в имени найденного класса есть строка \"Обучающая\" \n",
        "        trainText.append(readText('texts/' + j)) # Добавляем в обучающую выборку\n",
        "        print(j, 'добавлен в обучающую выборку') # Выводим print если добавилась\n",
        "      if 'Тестовая' in j: # Если в имени найденного класса есть строка \"Тестовая\" \n",
        "        testText.append(readText('texts/' + j)) # Добавляем в тестовую выборку \n",
        "        print(j, 'добавлен в тестовую выборку') # Выводим print если добавилась\n",
        "  print()"
      ],
      "execution_count": null,
      "outputs": [
        {
          "output_type": "stream",
          "text": [
            "(О. Генри) Обучающая_50 вместе.txt добавлен в обучающую выборку\n",
            "(О. Генри) Тестовая_20 вместе.txt добавлен в тестовую выборку\n",
            "\n",
            "(Стругацкие) Обучающая_5 вместе.txt добавлен в обучающую выборку\n",
            "(Стругацкие) Тестовая_2 вместе.txt добавлен в тестовую выборку\n",
            "\n",
            "(Булгаков) Тестовая_2 вместе.txt добавлен в тестовую выборку\n",
            "(Булгаков) Обучающая_5 вместе.txt добавлен в обучающую выборку\n",
            "\n",
            "(Клиффорд_Саймак) Тестовая_2 вместе.txt добавлен в тестовую выборку\n",
            "(Клиффорд_Саймак) Обучающая_5 вместе.txt добавлен в обучающую выборку\n",
            "\n",
            "(Макс Фрай) Обучающая_5 вместе.txt добавлен в обучающую выборку\n",
            "(Макс Фрай) Тестовая_2 вместе.txt добавлен в тестовую выборку\n",
            "\n",
            "(Рэй Брэдберри) Тестовая_8 вместе.txt добавлен в тестовую выборку\n",
            "(Рэй Брэдберри) Обучающая_22 вместе.txt добавлен в обучающую выборку\n",
            "\n"
          ],
          "name": "stdout"
        }
      ]
    },
    {
      "cell_type": "code",
      "metadata": {
        "id": "PdBZdD9gxxdB"
      },
      "source": [
        "# Формирование обучающей выборки по листу индексов слов\n",
        "def getSetFromIndexes(wordIndexes, xLen, step): # функция принимает последовательность индексов, размер окна, шаг окна\n",
        "  xSample = [] # Объявляем переменную для векторов\n",
        "  wordsLen = len(wordIndexes) # Считаем количество слов\n",
        "  index = 0 # Задаем начальный индекс \n",
        "  while (index + xLen <= wordsLen): # Идём по всей длине вектора индексов\n",
        "    xSample.append(wordIndexes[index:index+xLen]) # \"Откусываем\" векторы длины xLen\n",
        "    index += step # Смещаемся вперёд на step\n",
        "    \n",
        "  return xSample"
      ],
      "execution_count": null,
      "outputs": []
    },
    {
      "cell_type": "code",
      "metadata": {
        "id": "zXY88JWHv-CT"
      },
      "source": [
        "# Формирование обучающей и проверочной выборки\n",
        "# Из двух листов индексов от двух классов\n",
        "def createSetsMultiClasses(wordIndexes, xLen, step):# Функция принимает последовательность индексов, размер окна, шаг окна\n",
        "  # Для каждого из 6 классов\n",
        "  # Создаём обучающую/проверочную выборку из индексов\n",
        "  nClasses = len(wordIndexes) # Задаем количество классов выборки\n",
        "  classesXSamples = []  # Здесь будет список размером \"кол-во классов*кол-во окон в тексте*длину окна \n",
        "  for wI in wordIndexes: # Для каждого текста выборки из последовательности индексов\n",
        "    classesXSamples.append(getSetFromIndexes(wI, xLen, step)) # Добавляем в список очередной текст индексов, разбитый на \"кол-во окон*длину окна\" \n",
        "  xSamples = [] # Здесь будет список размером \"суммарное кол-во окон во всех текстах*длину окна\n",
        "  ySamples = [] # Здесь будет список размером \"суммарное кол-во окон во всех текстах*вектор длиной 6\n",
        "\n",
        "  for t in range(nClasses): # В диапазоне кол-ва классов(6)\n",
        "    xT = classesXSamples[t]  # Берем очередной текст вида \"кол-во окон в тексте*длину окна\n",
        "    for i in range(len(xT)): # И каждое его окно\n",
        "      xSamples.append(xT[i]) # Добавляем в общий список выборки\n",
        "      ySamples.append(utils.to_categorical(t, nClasses)) # Добавляем соответствующий вектор класса\n",
        "  xSamples = np.array(xSamples) # Переводим в массив numpy для подачи в сеть\n",
        "  ySamples = np.array(ySamples) # Переводим в массив numpy для подачи в сеть\n",
        "\n",
        "  return (xSamples, ySamples)"
      ],
      "execution_count": null,
      "outputs": []
    },
    {
      "cell_type": "code",
      "metadata": {
        "id": "oxGe4yFOtZtp"
      },
      "source": [
        "maxWordsCount = 20000 # задаем лимит по количеству слов, берем 20 000 самых часто встречающихся \r\n",
        "# Воспользуемся встроенной в Keras функцией Tokenizer для разбиения текста и превращения в матрицу числовых значений\r\n",
        "tokenizer = Tokenizer(num_words=maxWordsCount, lower=True, split=' ', oov_token='unknown', char_level=False)\r\n",
        "\r\n",
        "tokenizer.fit_on_texts(trainText) # даём в обработку методу, который соберет словарь частотности\r\n",
        "items = list(tokenizer.word_index.items()) # Вытаскиваем индексы слов \r\n",
        "\r\n",
        "xLen = 10000 # задаем размер окна\r\n",
        "step = 1000 # задаем шаг\r\n",
        "\r\n",
        "trainWordIdx = tokenizer.texts_to_sequences(trainText) # Обучающие тесты в индексы\r\n",
        "testWordIdx = tokenizer.texts_to_sequences(testText) # Поверочные тесты в индексы\r\n",
        "\r\n",
        "xTrain, yTrain = createSetsMultiClasses(trainWordIdx, xLen, step) # извлекаем обучающую выборку\r\n",
        "xTest, yTest = createSetsMultiClasses(testWordIdx, xLen, step) # извлекаем поверочную выборку\r\n",
        "\r\n",
        "xTrain01 = tokenizer.sequences_to_matrix(xTrain.tolist()) # Преобразовываем полученные выборки из последовательности индексов в матрицы нулей и единиц по принципу Bag of Words\r\n",
        "xTest01 = tokenizer.sequences_to_matrix(xTest.tolist()) # Преобразовываем полученные выборки из последовательности индексов в матрицы нулей и единиц по принципу Bag of Words\r\n"
      ],
      "execution_count": null,
      "outputs": []
    },
    {
      "cell_type": "code",
      "metadata": {
        "colab": {
          "base_uri": "https://localhost:8080/",
          "height": 1000
        },
        "id": "_0SMFCM17tDA",
        "outputId": "efdef2c3-34a2-4756-999e-1f29c6e661ff"
      },
      "source": [
        "# Создаем сеть\r\n",
        "model01 = Sequential()\r\n",
        "\r\n",
        "model01.add(Dense(1000, input_dim=maxWordsCount, activation=\"relu\"))\r\n",
        "\r\n",
        "model01.add(Dropout(0.25))\r\n",
        "\r\n",
        "model01.add(Dense(200, activation=\"linear\"))\r\n",
        "\r\n",
        "model01.add(Dropout(0.1))\r\n",
        "\r\n",
        "model01.add(Dense(6, activation='softmax'))\r\n",
        "\r\n",
        "model01.compile(optimizer=Adam(lr = 0.0001), \r\n",
        "              loss='categorical_crossentropy', \r\n",
        "              metrics=['accuracy'])\r\n",
        "\r\n",
        "history = model01.fit(xTrain01, \r\n",
        "                      yTrain, \r\n",
        "                      epochs=30,\r\n",
        "                      batch_size=128,\r\n",
        "                      validation_data=(xTest01, yTest))\r\n",
        "\r\n",
        "plt.plot(history.history['accuracy'], \r\n",
        "         label='Доля верных ответов на обучающем наборе')\r\n",
        "plt.plot(history.history['val_accuracy'], \r\n",
        "         label='Доля верных ответов на проверочном наборе')\r\n",
        "plt.xlabel('Эпоха обучения')\r\n",
        "plt.ylabel('Доля верных ответов')\r\n",
        "plt.legend()"
      ],
      "execution_count": null,
      "outputs": [
        {
          "output_type": "stream",
          "text": [
            "Epoch 1/30\n",
            "14/14 [==============================] - 4s 269ms/step - loss: 0.3229 - accuracy: 0.8978 - val_loss: 0.2959 - val_accuracy: 0.9536\n",
            "Epoch 2/30\n",
            "14/14 [==============================] - 4s 260ms/step - loss: 2.5201e-04 - accuracy: 1.0000 - val_loss: 0.2182 - val_accuracy: 0.9628\n",
            "Epoch 3/30\n",
            "14/14 [==============================] - 4s 262ms/step - loss: 5.2239e-05 - accuracy: 1.0000 - val_loss: 0.2083 - val_accuracy: 0.9613\n",
            "Epoch 4/30\n",
            "14/14 [==============================] - 4s 263ms/step - loss: 3.9293e-05 - accuracy: 1.0000 - val_loss: 0.2009 - val_accuracy: 0.9644\n",
            "Epoch 5/30\n",
            "14/14 [==============================] - 4s 263ms/step - loss: 3.4220e-05 - accuracy: 1.0000 - val_loss: 0.1935 - val_accuracy: 0.9659\n",
            "Epoch 6/30\n",
            "14/14 [==============================] - 4s 264ms/step - loss: 2.6952e-05 - accuracy: 1.0000 - val_loss: 0.1877 - val_accuracy: 0.9659\n",
            "Epoch 7/30\n",
            "14/14 [==============================] - 4s 263ms/step - loss: 2.3607e-05 - accuracy: 1.0000 - val_loss: 0.1818 - val_accuracy: 0.9721\n",
            "Epoch 8/30\n",
            "14/14 [==============================] - 4s 262ms/step - loss: 2.5494e-05 - accuracy: 1.0000 - val_loss: 0.1770 - val_accuracy: 0.9768\n",
            "Epoch 9/30\n",
            "14/14 [==============================] - 4s 263ms/step - loss: 2.5195e-05 - accuracy: 1.0000 - val_loss: 0.1713 - val_accuracy: 0.9768\n",
            "Epoch 10/30\n",
            "14/14 [==============================] - 4s 263ms/step - loss: 1.7089e-05 - accuracy: 1.0000 - val_loss: 0.1678 - val_accuracy: 0.9768\n",
            "Epoch 11/30\n",
            "14/14 [==============================] - 4s 263ms/step - loss: 1.8543e-05 - accuracy: 1.0000 - val_loss: 0.1644 - val_accuracy: 0.9783\n",
            "Epoch 12/30\n",
            "14/14 [==============================] - 4s 265ms/step - loss: 1.4604e-05 - accuracy: 1.0000 - val_loss: 0.1618 - val_accuracy: 0.9799\n",
            "Epoch 13/30\n",
            "14/14 [==============================] - 4s 265ms/step - loss: 1.4821e-05 - accuracy: 1.0000 - val_loss: 0.1597 - val_accuracy: 0.9814\n",
            "Epoch 14/30\n",
            "14/14 [==============================] - 4s 264ms/step - loss: 1.6196e-05 - accuracy: 1.0000 - val_loss: 0.1576 - val_accuracy: 0.9799\n",
            "Epoch 15/30\n",
            "14/14 [==============================] - 4s 264ms/step - loss: 1.4782e-05 - accuracy: 1.0000 - val_loss: 0.1557 - val_accuracy: 0.9783\n",
            "Epoch 16/30\n",
            "14/14 [==============================] - 4s 261ms/step - loss: 1.3572e-05 - accuracy: 1.0000 - val_loss: 0.1533 - val_accuracy: 0.9830\n",
            "Epoch 17/30\n",
            "14/14 [==============================] - 4s 262ms/step - loss: 1.1141e-05 - accuracy: 1.0000 - val_loss: 0.1518 - val_accuracy: 0.9830\n",
            "Epoch 18/30\n",
            "14/14 [==============================] - 4s 264ms/step - loss: 1.0536e-05 - accuracy: 1.0000 - val_loss: 0.1507 - val_accuracy: 0.9830\n",
            "Epoch 19/30\n",
            "14/14 [==============================] - 4s 262ms/step - loss: 1.1702e-05 - accuracy: 1.0000 - val_loss: 0.1497 - val_accuracy: 0.9830\n",
            "Epoch 20/30\n",
            "14/14 [==============================] - 4s 263ms/step - loss: 1.1331e-05 - accuracy: 1.0000 - val_loss: 0.1482 - val_accuracy: 0.9830\n",
            "Epoch 21/30\n",
            "14/14 [==============================] - 4s 265ms/step - loss: 9.5068e-06 - accuracy: 1.0000 - val_loss: 0.1473 - val_accuracy: 0.9830\n",
            "Epoch 22/30\n",
            "14/14 [==============================] - 4s 263ms/step - loss: 9.6411e-06 - accuracy: 1.0000 - val_loss: 0.1462 - val_accuracy: 0.9830\n",
            "Epoch 23/30\n",
            "14/14 [==============================] - 4s 261ms/step - loss: 9.6603e-06 - accuracy: 1.0000 - val_loss: 0.1454 - val_accuracy: 0.9830\n",
            "Epoch 24/30\n",
            "14/14 [==============================] - 4s 262ms/step - loss: 9.6838e-06 - accuracy: 1.0000 - val_loss: 0.1443 - val_accuracy: 0.9830\n",
            "Epoch 25/30\n",
            "14/14 [==============================] - 4s 263ms/step - loss: 1.0268e-05 - accuracy: 1.0000 - val_loss: 0.1432 - val_accuracy: 0.9830\n",
            "Epoch 26/30\n",
            "14/14 [==============================] - 4s 263ms/step - loss: 9.3094e-06 - accuracy: 1.0000 - val_loss: 0.1424 - val_accuracy: 0.9845\n",
            "Epoch 27/30\n",
            "14/14 [==============================] - 4s 266ms/step - loss: 1.1652e-05 - accuracy: 1.0000 - val_loss: 0.1407 - val_accuracy: 0.9845\n",
            "Epoch 28/30\n",
            "14/14 [==============================] - 4s 264ms/step - loss: 8.2599e-06 - accuracy: 1.0000 - val_loss: 0.1398 - val_accuracy: 0.9845\n",
            "Epoch 29/30\n",
            "14/14 [==============================] - 4s 265ms/step - loss: 8.9333e-06 - accuracy: 1.0000 - val_loss: 0.1396 - val_accuracy: 0.9830\n",
            "Epoch 30/30\n",
            "14/14 [==============================] - 4s 262ms/step - loss: 9.0480e-06 - accuracy: 1.0000 - val_loss: 0.1394 - val_accuracy: 0.9830\n"
          ],
          "name": "stdout"
        },
        {
          "output_type": "execute_result",
          "data": {
            "text/plain": [
              "<matplotlib.legend.Legend at 0x7f579e509630>"
            ]
          },
          "metadata": {
            "tags": []
          },
          "execution_count": 65
        },
        {
          "output_type": "display_data",
          "data": {
            "image/png": "[encoded data removed]",
            "text/plain": [
              "<Figure size 432x288 with 1 Axes>"
            ]
          },
          "metadata": {
            "tags": [],
            "needs_background": "light"
          }
        }
      ]
    }
  ]
}